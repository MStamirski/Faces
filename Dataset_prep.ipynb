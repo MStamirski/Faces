{
  "nbformat": 4,
  "nbformat_minor": 0,
  "metadata": {
    "colab": {
      "provenance": [],
      "authorship_tag": "ABX9TyNVUTvwvY7DWRo97tNjPzHe",
      "include_colab_link": true
    },
    "kernelspec": {
      "name": "python3",
      "display_name": "Python 3"
    },
    "language_info": {
      "name": "python"
    }
  },
  "cells": [
    {
      "cell_type": "markdown",
      "metadata": {
        "id": "view-in-github",
        "colab_type": "text"
      },
      "source": [
        "<a href=\"https://colab.research.google.com/github/MStamirski/Faces/blob/main/Dataset_prep.ipynb\" target=\"_parent\"><img src=\"https://colab.research.google.com/assets/colab-badge.svg\" alt=\"Open In Colab\"/></a>"
      ]
    },
    {
      "cell_type": "code",
      "source": [
        "import pandas as pd\n",
        "import numpy as np\n",
        "from PIL import Image, ImageFilter"
      ],
      "metadata": {
        "id": "dvK9hfIe7_GZ"
      },
      "execution_count": null,
      "outputs": []
    },
    {
      "cell_type": "code",
      "execution_count": null,
      "metadata": {
        "id": "AgLqf68Br75z"
      },
      "outputs": [],
      "source": [
        "def get_labels():\n",
        "  return pd.read_csv(\"faces-labels.csv\", sep=';')"
      ]
    },
    {
      "cell_type": "code",
      "source": [
        "def get_faces(labels, folder):\n",
        "  faces_output = []\n",
        "  sex_output = []\n",
        "  hair_output = []\n",
        "  glasses_output = []\n",
        "  hat_output = []\n",
        "  beard_output = []\n",
        "\n",
        "  # indexes of faces to alter\n",
        "  to_flip = (628, 746)\n",
        "  to_rotater = (747, 867)\n",
        "  to_rotatel = (868, 1023)\n",
        "  to_narrow = (1024, 1205)\n",
        "  to_widen = (1206, 1349)\n",
        "\n",
        "  for face_nr in labels['face_nr']:\n",
        "\n",
        "    print(f\"\\rProcessing face nr {face_nr}\", end=\"\")\n",
        "\n",
        "    file = 'face'+str(face_nr)+'.png'\n",
        "    face = Image.open(folder+file)\n",
        "    face = face.convert(\"L\")\n",
        "\n",
        "    # altering faces with specific indexes\n",
        "    if to_flip[0] <= face_nr <= to_flip[1]:\n",
        "      face = face.transpose(Image.FLIP_LEFT_RIGHT)\n",
        "    elif to_rotater[0] <= face_nr <= to_rotater[1]:\n",
        "      face = face.rotate(338)\n",
        "    elif to_rotatel[0] <= face_nr <= to_rotatel[1]:\n",
        "      face = face.rotate(22)\n",
        "    elif to_narrow[0] <= face_nr <= to_narrow[1]:\n",
        "      face = face.resize((50, 64))\n",
        "      background_arr = np.array([[0.0 for x in range(64)] for x in range(64)])\n",
        "      background = Image.fromarray(background_arr)\n",
        "      background.paste(face, ((7, 0)))\n",
        "      face = background.convert(\"L\")\n",
        "    elif to_widen[0] <= face_nr <= to_widen[1]:\n",
        "      face = face.resize((78, 64))\n",
        "      face = face.crop((7, 0, 71, 64))\n",
        "\n",
        "    # augmenting faces set\n",
        "    face_enlarged = face.resize((84, 84))\n",
        "    face_enlarged = face_enlarged.crop((10, 10, 74, 74))\n",
        "    face_blured = face.filter(ImageFilter.BoxBlur(1))\n",
        "    face_enlarged_blured = face_enlarged.filter(ImageFilter.BoxBlur(1))\n",
        "\n",
        "    # creating arrays of faces and labels\n",
        "    labels_list = labels[labels['face_nr']==face_nr].to_numpy()[0, 1:].tolist()\n",
        "\n",
        "    for face_to_add in [face, face_enlarged, face_blured, face_enlarged_blured]:\n",
        "      face_arr = np.asarray(face_to_add)\n",
        "      faces_output.append(face_arr)\n",
        "\n",
        "      sex_output.append(labels_list[0])\n",
        "      hair_output.append(labels_list[1])\n",
        "      glasses_output.append(labels_list[2])\n",
        "      hat_output.append(labels_list[3])\n",
        "      beard_output.append(labels_list[4])\n",
        "\n",
        "  print(f\"\\nCreated dataset contains {len(sex_output)} faces.\")\n",
        "\n",
        "  return np.array(faces_output), np.array(sex_output), np.array(hair_output), np.array(glasses_output), np.array(hat_output), np.array(beard_output)"
      ],
      "metadata": {
        "id": "9kZyso9LsOma"
      },
      "execution_count": null,
      "outputs": []
    }
  ]
}