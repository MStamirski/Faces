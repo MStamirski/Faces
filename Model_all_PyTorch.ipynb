{
  "cells": [
    {
      "cell_type": "markdown",
      "metadata": {
        "id": "view-in-github",
        "colab_type": "text"
      },
      "source": [
        "<a href=\"https://colab.research.google.com/github/MStamirski/Faces/blob/main/Model_all_PyTorch.ipynb\" target=\"_parent\"><img src=\"https://colab.research.google.com/assets/colab-badge.svg\" alt=\"Open In Colab\"/></a>"
      ]
    },
    {
      "cell_type": "code",
      "execution_count": null,
      "metadata": {
        "id": "Oft_bsElxcYx"
      },
      "outputs": [],
      "source": [
        "from google.colab import drive\n",
        "drive.mount(\"/content/drive\")\n",
        "%cd \"/content/drive/MyDrive/Colab_Notebooks/SDA_upskill/Faces\""
      ]
    },
    {
      "cell_type": "code",
      "execution_count": null,
      "metadata": {
        "id": "LIk_89iboiz2"
      },
      "outputs": [],
      "source": [
        "!pip install import-ipynb"
      ]
    },
    {
      "cell_type": "code",
      "execution_count": null,
      "metadata": {
        "id": "te1QhsF_L3ne"
      },
      "outputs": [],
      "source": [
        "import numpy as np\n",
        "from matplotlib import pyplot as plt\n",
        "from PIL import Image, ImageFilter\n",
        "import random\n",
        "from sklearn.model_selection import train_test_split\n",
        "\n",
        "import torch\n",
        "import torch.nn as nn\n",
        "import torch.nn.functional as F\n",
        "import torch.optim as optim\n",
        "from torch.utils.data import DataLoader, Dataset\n",
        "\n",
        "from keras.metrics import Precision\n",
        "from keras.metrics import Recall\n",
        "\n",
        "import import_ipynb"
      ]
    },
    {
      "cell_type": "markdown",
      "metadata": {
        "id": "9-djBNMWTSM-"
      },
      "source": [
        "# Import custom functions"
      ]
    },
    {
      "cell_type": "code",
      "execution_count": null,
      "metadata": {
        "colab": {
          "base_uri": "https://localhost:8080/"
        },
        "id": "2x6kXOhkoog6",
        "outputId": "4aae6ab5-bede-4cd4-be74-fdb642065774"
      },
      "outputs": [
        {
          "output_type": "stream",
          "name": "stdout",
          "text": [
            "importing Jupyter notebook from Dataset_prep.ipynb\n"
          ]
        }
      ],
      "source": [
        "from Dataset_prep import get_labels, get_faces"
      ]
    },
    {
      "cell_type": "code",
      "execution_count": null,
      "metadata": {
        "colab": {
          "base_uri": "https://localhost:8080/"
        },
        "id": "TDCky7AvwIj6",
        "outputId": "d9157bcd-d295-4af2-9d24-6f1793b06a98"
      },
      "outputs": [
        {
          "output_type": "stream",
          "name": "stdout",
          "text": [
            "importing Jupyter notebook from Functions.ipynb\n"
          ]
        }
      ],
      "source": [
        "from Functions import show_metrics, get_best_threshold, get_tuned_prediction"
      ]
    },
    {
      "cell_type": "code",
      "execution_count": null,
      "metadata": {
        "id": "EvT7SlkP0SXJ",
        "colab": {
          "base_uri": "https://localhost:8080/"
        },
        "outputId": "840a1b50-75ca-4c53-ce66-8e4cb876ef48"
      },
      "outputs": [
        {
          "output_type": "stream",
          "name": "stdout",
          "text": [
            "importing Jupyter notebook from Functions_all_labels.ipynb\n"
          ]
        }
      ],
      "source": [
        "from Functions_all_labels import prepare_data, show_prediction, show_predictions"
      ]
    },
    {
      "cell_type": "markdown",
      "metadata": {
        "id": "H7TfCuxNT_gK"
      },
      "source": [
        "# Data for model"
      ]
    },
    {
      "cell_type": "code",
      "execution_count": null,
      "metadata": {
        "colab": {
          "base_uri": "https://localhost:8080/"
        },
        "id": "EYpKdHGN90_i",
        "outputId": "44fa5d90-44f6-4771-9d40-107a13b5497f"
      },
      "outputs": [
        {
          "output_type": "stream",
          "name": "stdout",
          "text": [
            "Processing face nr 1349\n",
            "Created dataset contains 5300 faces.\n"
          ]
        }
      ],
      "source": [
        "labels = get_labels()\n",
        "faces, sex, hair, glasses, hat, beard = get_faces(labels, 'photos_dst/')"
      ]
    },
    {
      "cell_type": "code",
      "execution_count": null,
      "metadata": {
        "id": "sP56XruHOAnc"
      },
      "outputs": [],
      "source": [
        "X, y = prepare_data(faces, sex, hair, glasses, hat, beard, ['F', 'L', 'Y', 'Y', 'Y'])"
      ]
    },
    {
      "cell_type": "code",
      "execution_count": null,
      "metadata": {
        "id": "qwierFyAo9Ph"
      },
      "outputs": [],
      "source": [
        "X_train, X_test, y_train, y_test = train_test_split(X, y, test_size = 0.2, random_state=42)\n",
        "X_train, X_val, y_train, y_val = train_test_split(X_train, y_train, test_size = 0.2, random_state=43)"
      ]
    },
    {
      "cell_type": "markdown",
      "metadata": {
        "id": "GTSthtlKUCzC"
      },
      "source": [
        "# Model"
      ]
    },
    {
      "cell_type": "code",
      "execution_count": null,
      "metadata": {
        "colab": {
          "base_uri": "https://localhost:8080/"
        },
        "id": "DU_vtWdQPq-c",
        "outputId": "971a46b5-1590-48e5-ce49-1b76d2c89aef"
      },
      "outputs": [
        {
          "output_type": "stream",
          "name": "stdout",
          "text": [
            "Net(\n",
            "  (conv1): Conv2d(1, 64, kernel_size=(3, 3), stride=(1, 1))\n",
            "  (conv2): Conv2d(64, 128, kernel_size=(2, 2), stride=(1, 1))\n",
            "  (conv3): Conv2d(128, 576, kernel_size=(2, 2), stride=(1, 1))\n",
            "  (fc1): Linear(in_features=112896, out_features=1152, bias=True)\n",
            "  (fc2): Linear(in_features=1152, out_features=5, bias=True)\n",
            ")\n"
          ]
        }
      ],
      "source": [
        "# define a Convolutional Neural Network in PyTorch\n",
        "\n",
        "class Net(nn.Module):\n",
        "\n",
        "    def __init__(self):\n",
        "        super(Net, self).__init__()\n",
        "        \n",
        "        self.conv1 = nn.Conv2d(1, 64, 3)                  # 1 input image channel, 64 output channels, kernel 3x3\n",
        "        self.conv2 = nn.Conv2d(64, 128, 2)                # 64 input image channels, 128 output channels, kernel 2x2\n",
        "        self.conv3 = nn.Conv2d(128, 576, 2)               # 128 input image channels, 576 output channels, kernel 2x2\n",
        "        \n",
        "        self.fc1 = nn.Linear(576 * 14 * 14, 1152)         # input: 576 images of 14x14 dimension (first conv subtracts 2 and divides by 2, second: 1 and 2, third subtracts 1 - from starting 64 side of image)\n",
        "        self.fc2 = nn.Linear(1152, 5)                     # output: 5 labels\n",
        "\n",
        "\n",
        "    def forward(self, x):\n",
        "\n",
        "        x = F.max_pool2d(F.relu(self.conv1(x)), (2, 2))   # Max pooling over a (2, 2) window after first convolution with relu activation\n",
        "        x = F.max_pool2d(F.relu(self.conv2(x)), (2, 2))   # Max pooling over a (2, 2) window after second convolution with relu activation\n",
        "        x = F.relu(self.conv3(x))                         # Third convolution with relu activation\n",
        "        x = torch.flatten(x, 1)                           # flatten all dimensions to connect with fc1 - except batch dimension\n",
        "        \n",
        "        x = F.relu(self.fc1(x))                           # fully conected (dense) layer\n",
        "        x = self.fc2(x)                                   # output with 5 labels (no probability if loss = CrossEntropy, so no Sigmoid)\n",
        "        \n",
        "        return x \n",
        "\n",
        "model = Net()\n",
        "print(model)"
      ]
    },
    {
      "cell_type": "code",
      "execution_count": null,
      "metadata": {
        "colab": {
          "base_uri": "https://localhost:8080/"
        },
        "id": "Ul4IRpSM26cK",
        "outputId": "1d80cdb8-d436-4066-dd92-014fefea55ea"
      },
      "outputs": [
        {
          "output_type": "stream",
          "name": "stdout",
          "text": [
            "10\n",
            "0 torch.Size([64, 1, 3, 3])\n",
            "1 torch.Size([64])\n",
            "2 torch.Size([128, 64, 2, 2])\n",
            "3 torch.Size([128])\n",
            "4 torch.Size([576, 128, 2, 2])\n",
            "5 torch.Size([576])\n",
            "6 torch.Size([1152, 112896])\n",
            "7 torch.Size([1152])\n",
            "8 torch.Size([5, 1152])\n",
            "9 torch.Size([5])\n"
          ]
        }
      ],
      "source": [
        "params = list(model.parameters())\n",
        "print(len(params))\n",
        "for s in range(len(params)):\n",
        "  print(s, params[s].size()) "
      ]
    },
    {
      "cell_type": "code",
      "execution_count": null,
      "metadata": {
        "id": "0POd-3wDifgZ"
      },
      "outputs": [],
      "source": [
        "criterion = nn.CrossEntropyLoss()\n",
        "optimizer = optim.Adam(model.parameters(), lr=0.001)"
      ]
    },
    {
      "cell_type": "code",
      "execution_count": null,
      "metadata": {
        "colab": {
          "base_uri": "https://localhost:8080/"
        },
        "id": "J-FSXaAMmWoA",
        "outputId": "e4a7a143-b0aa-46d4-d1f2-62ad0b2a0fec"
      },
      "outputs": [
        {
          "output_type": "stream",
          "name": "stdout",
          "text": [
            "Training: 106/106, train loss: 1.6569\n",
            "Validation: 27/27, val loss: 1.2498\n",
            "Epoch: 1, Training Loss: 1.6569, Validation Loss: 1.2734\n",
            "\n",
            "Training: 106/106, train loss: 1.3042\n",
            "Validation: 27/27, val loss: 1.1235\n",
            "Epoch: 2, Training Loss: 1.3042, Validation Loss: 1.1447\n",
            "\n",
            "Training: 106/106, train loss: 1.1493\n",
            "Validation: 27/27, val loss: 1.0467\n",
            "Epoch: 3, Training Loss: 1.1493, Validation Loss: 1.0665\n",
            "\n",
            "Training: 106/106, train loss: 1.0212\n",
            "Validation: 27/27, val loss: 1.0281\n",
            "Epoch: 4, Training Loss: 1.0212, Validation Loss: 1.0475\n",
            "\n",
            "Training: 106/106, train loss: 0.9152\n",
            "Validation: 27/27, val loss: 0.9654\n",
            "Epoch: 5, Training Loss: 0.9152, Validation Loss: 0.9836\n",
            "\n",
            "Training: 106/106, train loss: 0.8414\n",
            "Validation: 27/27, val loss: 1.0025\n",
            "Epoch: 6, Training Loss: 0.8414, Validation Loss: 1.0214\n",
            "\n",
            "Training: 106/106, train loss: 0.8087\n",
            "Validation: 27/27, val loss: 0.9179\n",
            "Epoch: 7, Training Loss: 0.8087, Validation Loss: 0.9352\n",
            "\n",
            "Training: 106/106, train loss: 0.7671\n",
            "Validation: 27/27, val loss: 0.9710\n",
            "Epoch: 8, Training Loss: 0.7671, Validation Loss: 0.9893\n",
            "\n",
            "Training: 106/106, train loss: 0.7462\n",
            "Validation: 27/27, val loss: 0.9273\n",
            "Epoch: 9, Training Loss: 0.7462, Validation Loss: 0.9448\n",
            "\n",
            "Training: 106/106, train loss: 0.7323\n",
            "Validation: 27/27, val loss: 0.9705\n",
            "Epoch: 10, Training Loss: 0.7323, Validation Loss: 0.9888\n",
            "\n",
            "Training: 106/106, train loss: 0.7322\n",
            "Validation: 27/27, val loss: 0.8893\n",
            "Epoch: 11, Training Loss: 0.7322, Validation Loss: 0.9061\n",
            "\n",
            "Training: 106/106, train loss: 0.7196\n",
            "Validation: 27/27, val loss: 0.8967\n",
            "Epoch: 12, Training Loss: 0.7196, Validation Loss: 0.9136\n",
            "\n",
            "Training: 106/106, train loss: 0.7083\n",
            "Validation: 27/27, val loss: 0.8821\n",
            "Epoch: 13, Training Loss: 0.7083, Validation Loss: 0.8987\n",
            "\n",
            "Training: 106/106, train loss: 0.7006\n",
            "Validation: 27/27, val loss: 0.8893\n",
            "Epoch: 14, Training Loss: 0.7006, Validation Loss: 0.9060\n",
            "\n",
            "Training: 106/106, train loss: 0.6986\n",
            "Validation: 27/27, val loss: 0.8794\n",
            "Epoch: 15, Training Loss: 0.6986, Validation Loss: 0.8960\n",
            "\n",
            "Training: 106/106, train loss: 0.6984\n",
            "Validation: 27/27, val loss: 0.8815\n",
            "Epoch: 16, Training Loss: 0.6984, Validation Loss: 0.8981\n",
            "\n",
            "Training: 106/106, train loss: 0.6952\n",
            "Validation: 27/27, val loss: 0.8646\n",
            "Epoch: 17, Training Loss: 0.6952, Validation Loss: 0.8809\n",
            "\n",
            "Training: 106/106, train loss: 0.6892\n",
            "Validation: 27/27, val loss: 0.9029\n",
            "Epoch: 18, Training Loss: 0.6892, Validation Loss: 0.9199\n",
            "\n",
            "Training: 106/106, train loss: 0.6891\n",
            "Validation: 27/27, val loss: 0.8848\n",
            "Epoch: 19, Training Loss: 0.6891, Validation Loss: 0.9015\n",
            "\n",
            "Training: 106/106, train loss: 0.6852\n",
            "Validation: 27/27, val loss: 0.8748\n",
            "Epoch: 20, Training Loss: 0.6852, Validation Loss: 0.8913\n",
            "\n"
          ]
        }
      ],
      "source": [
        "# model training\n",
        "\n",
        "epochs_nr = 20\n",
        "batch_size = 32\n",
        "\n",
        "total_train_samples = len(y_train)\n",
        "total_valid_samples = len(y_val)\n",
        "\n",
        "total_train_batches = total_train_samples // batch_size\n",
        "if total_train_samples % batch_size > 0:\n",
        "  total_train_batches += 1\n",
        "\n",
        "total_valid_batches = total_valid_samples // batch_size\n",
        "if total_valid_samples % batch_size > 0:\n",
        "  total_valid_batches += 1\n",
        "\n",
        "train_losses = []\n",
        "valid_losses = []\n",
        "\n",
        "for epoch in range(epochs_nr):\n",
        "  train_loss = 0\n",
        "  valid_loss = 0\n",
        "\n",
        "  # training\n",
        "  batch_nr = 0\n",
        "  model.train()\n",
        "  for start_batch in range(0, total_train_samples, batch_size):\n",
        "    end_batch = min(total_train_samples, start_batch+batch_size)\n",
        "    batch_nr += 1\n",
        "    \n",
        "    # float64 in numpy arrays doesn't fit to tensors\n",
        "    batch_X_train = torch.tensor(X_train[start_batch:end_batch].astype(np.float32))\n",
        "    batch_y_train = torch.tensor(y_train[start_batch:end_batch].astype(np.float32))\n",
        "\n",
        "    # additional size for channels (data is in grayscale so this size was missing)\n",
        "    batch_X_train = batch_X_train.unsqueeze(1)  \n",
        "       \n",
        "    optimizer.zero_grad()\n",
        "    outputs = model(batch_X_train)  \n",
        "    loss = criterion(outputs, batch_y_train)\n",
        "    loss.backward()\n",
        "    optimizer.step()\n",
        "\n",
        "    train_loss += loss.item() * batch_X_train.size(0)\n",
        "    avg_train_loss = train_loss / (batch_nr * batch_size)\n",
        "\n",
        "    print(f\"\\rTraining: {batch_nr}/{total_train_batches}, train loss: {avg_train_loss:.4f}\", end=\"\")\n",
        "    \n",
        "  # validation\n",
        "  batch_nr = 0\n",
        "  model.eval()\n",
        "  print(\"\")\n",
        "  for start_batch in range(0, total_valid_samples, batch_size):\n",
        "    end_batch = min(total_valid_samples, start_batch+batch_size)\n",
        "    batch_nr += 1\n",
        "\n",
        "    batch_X_valid = torch.tensor(X_val[start_batch:end_batch].astype(np.float32))\n",
        "    batch_y_valid = torch.tensor(y_val[start_batch:end_batch].astype(np.float32))\n",
        "\n",
        "    batch_X_valid = batch_X_valid.unsqueeze(1)  \n",
        "\n",
        "    with torch.no_grad():\n",
        "      outputs = model(batch_X_valid)\n",
        "      loss = criterion(outputs, batch_y_valid)\n",
        "\n",
        "    valid_loss += loss.item() * batch_X_valid.size(0)\n",
        "    avg_valid_loss = valid_loss / (batch_nr * batch_size)\n",
        "\n",
        "    # statistics for batch\n",
        "    print(f\"\\rValidation: {batch_nr}/{total_valid_batches}, val loss: {avg_valid_loss:.4f}\", end=\"\")\n",
        "\n",
        "  # calculate average losses for epoch\n",
        "  train_loss = train_loss/total_train_samples\n",
        "  valid_loss = valid_loss/total_valid_samples\n",
        "  train_losses.append(train_loss)\n",
        "  valid_losses.append(valid_loss)\n",
        "        \n",
        "  # print statistics \n",
        "  print(f\"\\nEpoch: {epoch+1}, Training Loss: {train_loss:.4f}, Validation Loss: {valid_loss:.4f}\\n\")"
      ]
    },
    {
      "cell_type": "markdown",
      "metadata": {
        "id": "kXr_paa2UNsa"
      },
      "source": [
        "# Custom functions"
      ]
    },
    {
      "cell_type": "code",
      "execution_count": null,
      "metadata": {
        "id": "Jbfbzo9-bycN"
      },
      "outputs": [],
      "source": [
        "def make_prediction(model, X_test, y_test):\n",
        "\n",
        "  Xt = torch.tensor(X_test.astype(np.float32))\n",
        "  Xt = Xt.unsqueeze(1)\n",
        "\n",
        "  with torch.no_grad():\n",
        "    y_pred = model(Xt)\n",
        "\n",
        "  print(\"\\nMetrics before tuning\")\n",
        "  show_metrics(y_test, y_pred)\n",
        "\n",
        "  threshold = get_best_threshold(y_test, y_pred)\n",
        "  print(f\"\\nBest threshold: {threshold}\")\n",
        "\n",
        "  y_pred_tuned = get_tuned_prediction(y_pred, threshold)\n",
        "  print(\"\\nMetrics after tuning\")\n",
        "  show_metrics(y_test, y_pred_tuned)\n",
        "\n",
        "  return y_pred_tuned"
      ]
    },
    {
      "cell_type": "code",
      "execution_count": null,
      "metadata": {
        "id": "LRSXyzjWb-Bv"
      },
      "outputs": [],
      "source": [
        "def plot_history(train_loss, valid_loss):\n",
        "  \n",
        "  fig, ax = plt.subplots(figsize=[8,6])\n",
        "  ax.grid()\n",
        "  ax.plot(train_loss, 'r',linewidth=3.0, label='training')\n",
        "  ax.plot(valid_loss, 'b',linewidth=3.0, label='validation')\n",
        "  ax.set_xlabel('Epochs')\n",
        "  ax.legend()\n",
        "  ax.set_title('Loss function')\n",
        "  plt.show()"
      ]
    },
    {
      "cell_type": "markdown",
      "source": [
        "# Outcome"
      ],
      "metadata": {
        "id": "-t95E0Z9d5G1"
      }
    },
    {
      "cell_type": "code",
      "source": [
        "plot_history(train_losses, valid_losses)"
      ],
      "metadata": {
        "colab": {
          "base_uri": "https://localhost:8080/",
          "height": 564
        },
        "id": "S4A7-XXefjy8",
        "outputId": "1ebf458a-e61e-49b3-c4aa-a938868ab885"
      },
      "execution_count": null,
      "outputs": [
        {
          "output_type": "display_data",
          "data": {
            "text/plain": [
              "<Figure size 800x600 with 1 Axes>"
            ],
            "image/png": "[encoded data removed]"
          },
          "metadata": {}
        }
      ]
    },
    {
      "cell_type": "code",
      "execution_count": null,
      "metadata": {
        "colab": {
          "base_uri": "https://localhost:8080/"
        },
        "id": "hessDR30Pmrj",
        "outputId": "5261bed6-ac7b-47d5-b5b7-f2c301b4f52a"
      },
      "outputs": [
        {
          "output_type": "stream",
          "name": "stdout",
          "text": [
            "\n",
            "Metrics before tuning\n",
            "Precision: 0.5929502844810486\n",
            "Recall: 0.9753772616386414\n",
            "F1 Score: 0.7375375628471375\n",
            "\n",
            "Best threshold: 0.9500000000000001\n",
            "\n",
            "Metrics after tuning\n",
            "Precision: 0.6289569139480591\n",
            "Recall: 0.962668776512146\n",
            "F1 Score: 0.7608285546302795\n"
          ]
        }
      ],
      "source": [
        "y_pred_tuned = make_prediction(model, X_test, y_test)"
      ]
    },
    {
      "cell_type": "code",
      "source": [
        "show_predictions(X_test, y_test, y_pred_tuned)"
      ],
      "metadata": {
        "colab": {
          "base_uri": "https://localhost:8080/",
          "height": 1000
        },
        "id": "fObS8xHqf3Y8",
        "outputId": "1f4a80ac-518c-4b2b-d07e-a9a6d1c21d67"
      },
      "execution_count": null,
      "outputs": [
        {
          "output_type": "stream",
          "name": "stdout",
          "text": [
            "\n",
            "\n",
            "\u001b[1mPredictions for label: [Sex] value: [0]\u001b[0;0m\n",
            "\n",
            "=======================================\n"
          ]
        },
        {
          "output_type": "display_data",
          "data": {
            "text/plain": [
              "<PIL.Image.Image image mode=L size=64x64 at 0x7FCE0209D970>"
            ],
            "image/png": "[encoded data removed]"
          },
          "metadata": {}
        },
        {
          "output_type": "stream",
          "name": "stdout",
          "text": [
            "\n",
            "LABELS    VALUES    PREDICTIONS\n",
            "Sex       \u001b[1m0         \u001b[92m0\u001b[0;0m\n",
            "Hair      \u001b[1m0         \u001b[92m0\u001b[0;0m\n",
            "Glasses   \u001b[1m1         \u001b[92m1\u001b[0;0m\n",
            "Hat       \u001b[1m0         \u001b[92m0\u001b[0;0m\n",
            "Beard     \u001b[1m0         \u001b[91m1\u001b[0;0m\n",
            "\n",
            "=======================================\n"
          ]
        },
        {
          "output_type": "display_data",
          "data": {
            "text/plain": [
              "<PIL.Image.Image image mode=L size=64x64 at 0x7FCE0209DC70>"
            ],
            "image/png": "[encoded data removed]"
          },
          "metadata": {}
        },
        {
          "output_type": "stream",
          "name": "stdout",
          "text": [
            "\n",
            "LABELS    VALUES    PREDICTIONS\n",
            "Sex       \u001b[1m0         \u001b[91m1\u001b[0;0m\n",
            "Hair      \u001b[1m0         \u001b[92m0\u001b[0;0m\n",
            "Glasses   \u001b[1m0         \u001b[91m1\u001b[0;0m\n",
            "Hat       \u001b[1m0         \u001b[92m0\u001b[0;0m\n",
            "Beard     \u001b[1m0         \u001b[91m1\u001b[0;0m\n",
            "\n",
            "=======================================\n"
          ]
        },
        {
          "output_type": "display_data",
          "data": {
            "text/plain": [
              "<PIL.Image.Image image mode=L size=64x64 at 0x7FCE02097BB0>"
            ],
            "image/png": "[encoded data removed]"
          },
          "metadata": {}
        },
        {
          "output_type": "stream",
          "name": "stdout",
          "text": [
            "\n",
            "LABELS    VALUES    PREDICTIONS\n",
            "Sex       \u001b[1m0         \u001b[91m1\u001b[0;0m\n",
            "Hair      \u001b[1m0         \u001b[92m0\u001b[0;0m\n",
            "Glasses   \u001b[1m0         \u001b[92m0\u001b[0;0m\n",
            "Hat       \u001b[1m0         \u001b[92m0\u001b[0;0m\n",
            "Beard     \u001b[1m0         \u001b[92m0\u001b[0;0m\n",
            "\n",
            "=======================================\n"
          ]
        },
        {
          "output_type": "display_data",
          "data": {
            "text/plain": [
              "<PIL.Image.Image image mode=L size=64x64 at 0x7FCE73409F10>"
            ],
            "image/png": "[encoded data removed]"
          },
          "metadata": {}
        },
        {
          "output_type": "stream",
          "name": "stdout",
          "text": [
            "\n",
            "LABELS    VALUES    PREDICTIONS\n",
            "Sex       \u001b[1m0         \u001b[92m0\u001b[0;0m\n",
            "Hair      \u001b[1m0         \u001b[92m0\u001b[0;0m\n",
            "Glasses   \u001b[1m0         \u001b[92m0\u001b[0;0m\n",
            "Hat       \u001b[1m0         \u001b[92m0\u001b[0;0m\n",
            "Beard     \u001b[1m1         \u001b[92m1\u001b[0;0m\n",
            "\n",
            "=======================================\n"
          ]
        },
        {
          "output_type": "display_data",
          "data": {
            "text/plain": [
              "<PIL.Image.Image image mode=L size=64x64 at 0x7FCE02097FD0>"
            ],
            "image/png": "[encoded data removed]"
          },
          "metadata": {}
        },
        {
          "output_type": "stream",
          "name": "stdout",
          "text": [
            "\n",
            "LABELS    VALUES    PREDICTIONS\n",
            "Sex       \u001b[1m0         \u001b[91m1\u001b[0;0m\n",
            "Hair      \u001b[1m0         \u001b[92m0\u001b[0;0m\n",
            "Glasses   \u001b[1m0         \u001b[92m0\u001b[0;0m\n",
            "Hat       \u001b[1m0         \u001b[92m0\u001b[0;0m\n",
            "Beard     \u001b[1m0         \u001b[92m0\u001b[0;0m\n",
            "\n",
            "\n",
            "\u001b[1mPredictions for label: [Sex] value [1]\u001b[0;0m\n",
            "\n",
            "=======================================\n"
          ]
        },
        {
          "output_type": "display_data",
          "data": {
            "text/plain": [
              "<PIL.Image.Image image mode=L size=64x64 at 0x7FCE02097E80>"
            ],
            "image/png": "[encoded data removed]"
          },
          "metadata": {}
        },
        {
          "output_type": "stream",
          "name": "stdout",
          "text": [
            "\n",
            "LABELS    VALUES    PREDICTIONS\n",
            "Sex       \u001b[1m1         \u001b[92m1\u001b[0;0m\n",
            "Hair      \u001b[1m1         \u001b[92m1\u001b[0;0m\n",
            "Glasses   \u001b[1m0         \u001b[92m0\u001b[0;0m\n",
            "Hat       \u001b[1m0         \u001b[92m0\u001b[0;0m\n",
            "Beard     \u001b[1m0         \u001b[92m0\u001b[0;0m\n",
            "\n",
            "=======================================\n"
          ]
        },
        {
          "output_type": "display_data",
          "data": {
            "text/plain": [
              "<PIL.Image.Image image mode=L size=64x64 at 0x7FCE02097B50>"
            ],
            "image/png": "[encoded data removed]"
          },
          "metadata": {}
        },
        {
          "output_type": "stream",
          "name": "stdout",
          "text": [
            "\n",
            "LABELS    VALUES    PREDICTIONS\n",
            "Sex       \u001b[1m1         \u001b[92m1\u001b[0;0m\n",
            "Hair      \u001b[1m1         \u001b[92m1\u001b[0;0m\n",
            "Glasses   \u001b[1m0         \u001b[92m0\u001b[0;0m\n",
            "Hat       \u001b[1m0         \u001b[92m0\u001b[0;0m\n",
            "Beard     \u001b[1m0         \u001b[92m0\u001b[0;0m\n",
            "\n",
            "=======================================\n"
          ]
        },
        {
          "output_type": "display_data",
          "data": {
            "text/plain": [
              "<PIL.Image.Image image mode=L size=64x64 at 0x7FCE02097730>"
            ],
            "image/png": "[encoded data removed]"
          },
          "metadata": {}
        },
        {
          "output_type": "stream",
          "name": "stdout",
          "text": [
            "\n",
            "LABELS    VALUES    PREDICTIONS\n",
            "Sex       \u001b[1m1         \u001b[92m1\u001b[0;0m\n",
            "Hair      \u001b[1m1         \u001b[92m1\u001b[0;0m\n",
            "Glasses   \u001b[1m0         \u001b[92m0\u001b[0;0m\n",
            "Hat       \u001b[1m0         \u001b[92m0\u001b[0;0m\n",
            "Beard     \u001b[1m0         \u001b[92m0\u001b[0;0m\n",
            "\n",
            "=======================================\n"
          ]
        },
        {
          "output_type": "display_data",
          "data": {
            "text/plain": [
              "<PIL.Image.Image image mode=L size=64x64 at 0x7FCE02097D90>"
            ],
            "image/png": "[encoded data removed]"
          },
          "metadata": {}
        },
        {
          "output_type": "stream",
          "name": "stdout",
          "text": [
            "\n",
            "LABELS    VALUES    PREDICTIONS\n",
            "Sex       \u001b[1m1         \u001b[92m1\u001b[0;0m\n",
            "Hair      \u001b[1m0         \u001b[91m1\u001b[0;0m\n",
            "Glasses   \u001b[1m1         \u001b[91m0\u001b[0;0m\n",
            "Hat       \u001b[1m0         \u001b[92m0\u001b[0;0m\n",
            "Beard     \u001b[1m0         \u001b[92m0\u001b[0;0m\n",
            "\n",
            "=======================================\n"
          ]
        },
        {
          "output_type": "display_data",
          "data": {
            "text/plain": [
              "<PIL.Image.Image image mode=L size=64x64 at 0x7FCE02097CA0>"
            ],
            "image/png": "[encoded data removed]"
          },
          "metadata": {}
        },
        {
          "output_type": "stream",
          "name": "stdout",
          "text": [
            "\n",
            "LABELS    VALUES    PREDICTIONS\n",
            "Sex       \u001b[1m1         \u001b[91m0\u001b[0;0m\n",
            "Hair      \u001b[1m0         \u001b[92m0\u001b[0;0m\n",
            "Glasses   \u001b[1m0         \u001b[92m0\u001b[0;0m\n",
            "Hat       \u001b[1m0         \u001b[92m0\u001b[0;0m\n",
            "Beard     \u001b[1m0         \u001b[91m1\u001b[0;0m\n",
            "\n",
            "\n",
            "\u001b[1mPredictions for label: [Hair] value: [0]\u001b[0;0m\n",
            "\n",
            "=======================================\n"
          ]
        },
        {
          "output_type": "display_data",
          "data": {
            "text/plain": [
              "<PIL.Image.Image image mode=L size=64x64 at 0x7FCE0209D250>"
            ],
            "image/png": "[encoded data removed]"
          },
          "metadata": {}
        },
        {
          "output_type": "stream",
          "name": "stdout",
          "text": [
            "\n",
            "LABELS    VALUES    PREDICTIONS\n",
            "Sex       \u001b[1m1         \u001b[92m1\u001b[0;0m\n",
            "Hair      \u001b[1m0         \u001b[92m0\u001b[0;0m\n",
            "Glasses   \u001b[1m0         \u001b[92m0\u001b[0;0m\n",
            "Hat       \u001b[1m0         \u001b[92m0\u001b[0;0m\n",
            "Beard     \u001b[1m0         \u001b[92m0\u001b[0;0m\n",
            "\n",
            "=======================================\n"
          ]
        },
        {
          "output_type": "display_data",
          "data": {
            "text/plain": [
              "<PIL.Image.Image image mode=L size=64x64 at 0x7FCE02097C10>"
            ],
            "image/png": "[encoded data removed]"
          },
          "metadata": {}
        },
        {
          "output_type": "stream",
          "name": "stdout",
          "text": [
            "\n",
            "LABELS    VALUES    PREDICTIONS\n",
            "Sex       \u001b[1m0         \u001b[92m0\u001b[0;0m\n",
            "Hair      \u001b[1m0         \u001b[92m0\u001b[0;0m\n",
            "Glasses   \u001b[1m0         \u001b[91m1\u001b[0;0m\n",
            "Hat       \u001b[1m0         \u001b[92m0\u001b[0;0m\n",
            "Beard     \u001b[1m1         \u001b[92m1\u001b[0;0m\n",
            "\n",
            "=======================================\n"
          ]
        },
        {
          "output_type": "display_data",
          "data": {
            "text/plain": [
              "<PIL.Image.Image image mode=L size=64x64 at 0x7FCE020972E0>"
            ],
            "image/png": "[encoded data removed]"
          },
          "metadata": {}
        },
        {
          "output_type": "stream",
          "name": "stdout",
          "text": [
            "\n",
            "LABELS    VALUES    PREDICTIONS\n",
            "Sex       \u001b[1m0         \u001b[92m0\u001b[0;0m\n",
            "Hair      \u001b[1m0         \u001b[92m0\u001b[0;0m\n",
            "Glasses   \u001b[1m0         \u001b[92m0\u001b[0;0m\n",
            "Hat       \u001b[1m0         \u001b[92m0\u001b[0;0m\n",
            "Beard     \u001b[1m1         \u001b[92m1\u001b[0;0m\n",
            "\n",
            "=======================================\n"
          ]
        },
        {
          "output_type": "display_data",
          "data": {
            "text/plain": [
              "<PIL.Image.Image image mode=L size=64x64 at 0x7FCE02097940>"
            ],
            "image/png": "[encoded data removed]"
          },
          "metadata": {}
        },
        {
          "output_type": "stream",
          "name": "stdout",
          "text": [
            "\n",
            "LABELS    VALUES    PREDICTIONS\n",
            "Sex       \u001b[1m0         \u001b[92m0\u001b[0;0m\n",
            "Hair      \u001b[1m0         \u001b[92m0\u001b[0;0m\n",
            "Glasses   \u001b[1m0         \u001b[92m0\u001b[0;0m\n",
            "Hat       \u001b[1m0         \u001b[92m0\u001b[0;0m\n",
            "Beard     \u001b[1m1         \u001b[92m1\u001b[0;0m\n",
            "\n",
            "=======================================\n"
          ]
        },
        {
          "output_type": "display_data",
          "data": {
            "text/plain": [
              "<PIL.Image.Image image mode=L size=64x64 at 0x7FCE020971F0>"
            ],
            "image/png": "[encoded data removed]"
          },
          "metadata": {}
        },
        {
          "output_type": "stream",
          "name": "stdout",
          "text": [
            "\n",
            "LABELS    VALUES    PREDICTIONS\n",
            "Sex       \u001b[1m1         \u001b[92m1\u001b[0;0m\n",
            "Hair      \u001b[1m0         \u001b[92m0\u001b[0;0m\n",
            "Glasses   \u001b[1m0         \u001b[92m0\u001b[0;0m\n",
            "Hat       \u001b[1m0         \u001b[92m0\u001b[0;0m\n",
            "Beard     \u001b[1m0         \u001b[92m0\u001b[0;0m\n",
            "\n",
            "\n",
            "\u001b[1mPredictions for label: [Hair] value [1]\u001b[0;0m\n",
            "\n",
            "=======================================\n"
          ]
        },
        {
          "output_type": "display_data",
          "data": {
            "text/plain": [
              "<PIL.Image.Image image mode=L size=64x64 at 0x7FCE020976D0>"
            ],
            "image/png": "[encoded data removed]"
          },
          "metadata": {}
        },
        {
          "output_type": "stream",
          "name": "stdout",
          "text": [
            "\n",
            "LABELS    VALUES    PREDICTIONS\n",
            "Sex       \u001b[1m1         \u001b[92m1\u001b[0;0m\n",
            "Hair      \u001b[1m1         \u001b[92m1\u001b[0;0m\n",
            "Glasses   \u001b[1m0         \u001b[92m0\u001b[0;0m\n",
            "Hat       \u001b[1m0         \u001b[92m0\u001b[0;0m\n",
            "Beard     \u001b[1m0         \u001b[92m0\u001b[0;0m\n",
            "\n",
            "=======================================\n"
          ]
        },
        {
          "output_type": "display_data",
          "data": {
            "text/plain": [
              "<PIL.Image.Image image mode=L size=64x64 at 0x7FCE020972E0>"
            ],
            "image/png": "[encoded data removed]"
          },
          "metadata": {}
        },
        {
          "output_type": "stream",
          "name": "stdout",
          "text": [
            "\n",
            "LABELS    VALUES    PREDICTIONS\n",
            "Sex       \u001b[1m1         \u001b[92m1\u001b[0;0m\n",
            "Hair      \u001b[1m1         \u001b[92m1\u001b[0;0m\n",
            "Glasses   \u001b[1m0         \u001b[92m0\u001b[0;0m\n",
            "Hat       \u001b[1m0         \u001b[92m0\u001b[0;0m\n",
            "Beard     \u001b[1m0         \u001b[92m0\u001b[0;0m\n",
            "\n",
            "=======================================\n"
          ]
        },
        {
          "output_type": "display_data",
          "data": {
            "text/plain": [
              "<PIL.Image.Image image mode=L size=64x64 at 0x7FCE02097BB0>"
            ],
            "image/png": "[encoded data removed]"
          },
          "metadata": {}
        },
        {
          "output_type": "stream",
          "name": "stdout",
          "text": [
            "\n",
            "LABELS    VALUES    PREDICTIONS\n",
            "Sex       \u001b[1m1         \u001b[92m1\u001b[0;0m\n",
            "Hair      \u001b[1m1         \u001b[92m1\u001b[0;0m\n",
            "Glasses   \u001b[1m0         \u001b[92m0\u001b[0;0m\n",
            "Hat       \u001b[1m0         \u001b[92m0\u001b[0;0m\n",
            "Beard     \u001b[1m0         \u001b[92m0\u001b[0;0m\n",
            "\n",
            "=======================================\n"
          ]
        },
        {
          "output_type": "display_data",
          "data": {
            "text/plain": [
              "<PIL.Image.Image image mode=L size=64x64 at 0x7FCE020971C0>"
            ],
            "image/png": "[encoded data removed]"
          },
          "metadata": {}
        },
        {
          "output_type": "stream",
          "name": "stdout",
          "text": [
            "\n",
            "LABELS    VALUES    PREDICTIONS\n",
            "Sex       \u001b[1m1         \u001b[92m1\u001b[0;0m\n",
            "Hair      \u001b[1m1         \u001b[92m1\u001b[0;0m\n",
            "Glasses   \u001b[1m0         \u001b[92m0\u001b[0;0m\n",
            "Hat       \u001b[1m0         \u001b[92m0\u001b[0;0m\n",
            "Beard     \u001b[1m0         \u001b[92m0\u001b[0;0m\n",
            "\n",
            "=======================================\n"
          ]
        },
        {
          "output_type": "display_data",
          "data": {
            "text/plain": [
              "<PIL.Image.Image image mode=L size=64x64 at 0x7FCE02097940>"
            ],
            "image/png": "[encoded data removed]"
          },
          "metadata": {}
        },
        {
          "output_type": "stream",
          "name": "stdout",
          "text": [
            "\n",
            "LABELS    VALUES    PREDICTIONS\n",
            "Sex       \u001b[1m1         \u001b[92m1\u001b[0;0m\n",
            "Hair      \u001b[1m1         \u001b[92m1\u001b[0;0m\n",
            "Glasses   \u001b[1m0         \u001b[92m0\u001b[0;0m\n",
            "Hat       \u001b[1m0         \u001b[92m0\u001b[0;0m\n",
            "Beard     \u001b[1m0         \u001b[92m0\u001b[0;0m\n",
            "\n",
            "\n",
            "\u001b[1mPredictions for label: [Glasses] value: [0]\u001b[0;0m\n",
            "\n",
            "=======================================\n"
          ]
        },
        {
          "output_type": "display_data",
          "data": {
            "text/plain": [
              "<PIL.Image.Image image mode=L size=64x64 at 0x7FCE0209DD60>"
            ],
            "image/png": "[encoded data removed]"
          },
          "metadata": {}
        },
        {
          "output_type": "stream",
          "name": "stdout",
          "text": [
            "\n",
            "LABELS    VALUES    PREDICTIONS\n",
            "Sex       \u001b[1m1         \u001b[92m1\u001b[0;0m\n",
            "Hair      \u001b[1m1         \u001b[92m1\u001b[0;0m\n",
            "Glasses   \u001b[1m0         \u001b[92m0\u001b[0;0m\n",
            "Hat       \u001b[1m0         \u001b[92m0\u001b[0;0m\n",
            "Beard     \u001b[1m0         \u001b[92m0\u001b[0;0m\n",
            "\n",
            "=======================================\n"
          ]
        },
        {
          "output_type": "display_data",
          "data": {
            "text/plain": [
              "<PIL.Image.Image image mode=L size=64x64 at 0x7FCE02097A00>"
            ],
            "image/png": "[encoded data removed]"
          },
          "metadata": {}
        },
        {
          "output_type": "stream",
          "name": "stdout",
          "text": [
            "\n",
            "LABELS    VALUES    PREDICTIONS\n",
            "Sex       \u001b[1m0         \u001b[91m1\u001b[0;0m\n",
            "Hair      \u001b[1m0         \u001b[92m0\u001b[0;0m\n",
            "Glasses   \u001b[1m0         \u001b[92m0\u001b[0;0m\n",
            "Hat       \u001b[1m0         \u001b[92m0\u001b[0;0m\n",
            "Beard     \u001b[1m0         \u001b[91m1\u001b[0;0m\n",
            "\n",
            "=======================================\n"
          ]
        },
        {
          "output_type": "display_data",
          "data": {
            "text/plain": [
              "<PIL.Image.Image image mode=L size=64x64 at 0x7FCE020978E0>"
            ],
            "image/png": "[encoded data removed]"
          },
          "metadata": {}
        },
        {
          "output_type": "stream",
          "name": "stdout",
          "text": [
            "\n",
            "LABELS    VALUES    PREDICTIONS\n",
            "Sex       \u001b[1m0         \u001b[92m0\u001b[0;0m\n",
            "Hair      \u001b[1m0         \u001b[92m0\u001b[0;0m\n",
            "Glasses   \u001b[1m0         \u001b[92m0\u001b[0;0m\n",
            "Hat       \u001b[1m0         \u001b[92m0\u001b[0;0m\n",
            "Beard     \u001b[1m1         \u001b[92m1\u001b[0;0m\n",
            "\n",
            "=======================================\n"
          ]
        },
        {
          "output_type": "display_data",
          "data": {
            "text/plain": [
              "<PIL.Image.Image image mode=L size=64x64 at 0x7FCE02097130>"
            ],
            "image/png": "[encoded data removed]"
          },
          "metadata": {}
        },
        {
          "output_type": "stream",
          "name": "stdout",
          "text": [
            "\n",
            "LABELS    VALUES    PREDICTIONS\n",
            "Sex       \u001b[1m1         \u001b[92m1\u001b[0;0m\n",
            "Hair      \u001b[1m1         \u001b[92m1\u001b[0;0m\n",
            "Glasses   \u001b[1m0         \u001b[92m0\u001b[0;0m\n",
            "Hat       \u001b[1m0         \u001b[92m0\u001b[0;0m\n",
            "Beard     \u001b[1m0         \u001b[92m0\u001b[0;0m\n",
            "\n",
            "=======================================\n"
          ]
        },
        {
          "output_type": "display_data",
          "data": {
            "text/plain": [
              "<PIL.Image.Image image mode=L size=64x64 at 0x7FCE020977C0>"
            ],
            "image/png": "[encoded data removed]"
          },
          "metadata": {}
        },
        {
          "output_type": "stream",
          "name": "stdout",
          "text": [
            "\n",
            "LABELS    VALUES    PREDICTIONS\n",
            "Sex       \u001b[1m0         \u001b[92m0\u001b[0;0m\n",
            "Hair      \u001b[1m0         \u001b[92m0\u001b[0;0m\n",
            "Glasses   \u001b[1m0         \u001b[92m0\u001b[0;0m\n",
            "Hat       \u001b[1m0         \u001b[92m0\u001b[0;0m\n",
            "Beard     \u001b[1m1         \u001b[92m1\u001b[0;0m\n",
            "\n",
            "\n",
            "\u001b[1mPredictions for label: [Glasses] value [1]\u001b[0;0m\n",
            "\n",
            "=======================================\n"
          ]
        },
        {
          "output_type": "display_data",
          "data": {
            "text/plain": [
              "<PIL.Image.Image image mode=L size=64x64 at 0x7FCE02097430>"
            ],
            "image/png": "[encoded data removed]"
          },
          "metadata": {}
        },
        {
          "output_type": "stream",
          "name": "stdout",
          "text": [
            "\n",
            "LABELS    VALUES    PREDICTIONS\n",
            "Sex       \u001b[1m1         \u001b[92m1\u001b[0;0m\n",
            "Hair      \u001b[1m1         \u001b[92m1\u001b[0;0m\n",
            "Glasses   \u001b[1m1         \u001b[92m1\u001b[0;0m\n",
            "Hat       \u001b[1m0         \u001b[92m0\u001b[0;0m\n",
            "Beard     \u001b[1m0         \u001b[92m0\u001b[0;0m\n",
            "\n",
            "=======================================\n"
          ]
        },
        {
          "output_type": "display_data",
          "data": {
            "text/plain": [
              "<PIL.Image.Image image mode=L size=64x64 at 0x7FCE020978E0>"
            ],
            "image/png": "[encoded data removed]"
          },
          "metadata": {}
        },
        {
          "output_type": "stream",
          "name": "stdout",
          "text": [
            "\n",
            "LABELS    VALUES    PREDICTIONS\n",
            "Sex       \u001b[1m1         \u001b[92m1\u001b[0;0m\n",
            "Hair      \u001b[1m1         \u001b[92m1\u001b[0;0m\n",
            "Glasses   \u001b[1m1         \u001b[92m1\u001b[0;0m\n",
            "Hat       \u001b[1m0         \u001b[92m0\u001b[0;0m\n",
            "Beard     \u001b[1m0         \u001b[92m0\u001b[0;0m\n",
            "\n",
            "=======================================\n"
          ]
        },
        {
          "output_type": "display_data",
          "data": {
            "text/plain": [
              "<PIL.Image.Image image mode=L size=64x64 at 0x7FCE02097A90>"
            ],
            "image/png": "[encoded data removed]"
          },
          "metadata": {}
        },
        {
          "output_type": "stream",
          "name": "stdout",
          "text": [
            "\n",
            "LABELS    VALUES    PREDICTIONS\n",
            "Sex       \u001b[1m1         \u001b[92m1\u001b[0;0m\n",
            "Hair      \u001b[1m1         \u001b[92m1\u001b[0;0m\n",
            "Glasses   \u001b[1m1         \u001b[92m1\u001b[0;0m\n",
            "Hat       \u001b[1m0         \u001b[92m0\u001b[0;0m\n",
            "Beard     \u001b[1m0         \u001b[92m0\u001b[0;0m\n",
            "\n",
            "=======================================\n"
          ]
        },
        {
          "output_type": "display_data",
          "data": {
            "text/plain": [
              "<PIL.Image.Image image mode=L size=64x64 at 0x7FCE02097790>"
            ],
            "image/png": "[encoded data removed]"
          },
          "metadata": {}
        },
        {
          "output_type": "stream",
          "name": "stdout",
          "text": [
            "\n",
            "LABELS    VALUES    PREDICTIONS\n",
            "Sex       \u001b[1m1         \u001b[92m1\u001b[0;0m\n",
            "Hair      \u001b[1m1         \u001b[92m1\u001b[0;0m\n",
            "Glasses   \u001b[1m1         \u001b[92m1\u001b[0;0m\n",
            "Hat       \u001b[1m0         \u001b[92m0\u001b[0;0m\n",
            "Beard     \u001b[1m0         \u001b[92m0\u001b[0;0m\n",
            "\n",
            "=======================================\n"
          ]
        },
        {
          "output_type": "display_data",
          "data": {
            "text/plain": [
              "<PIL.Image.Image image mode=L size=64x64 at 0x7FCE02097130>"
            ],
            "image/png": "[encoded data removed]"
          },
          "metadata": {}
        },
        {
          "output_type": "stream",
          "name": "stdout",
          "text": [
            "\n",
            "LABELS    VALUES    PREDICTIONS\n",
            "Sex       \u001b[1m0         \u001b[92m0\u001b[0;0m\n",
            "Hair      \u001b[1m0         \u001b[92m0\u001b[0;0m\n",
            "Glasses   \u001b[1m1         \u001b[92m1\u001b[0;0m\n",
            "Hat       \u001b[1m0         \u001b[92m0\u001b[0;0m\n",
            "Beard     \u001b[1m1         \u001b[92m1\u001b[0;0m\n",
            "\n",
            "\n",
            "\u001b[1mPredictions for label: [Hat] value: [0]\u001b[0;0m\n",
            "\n",
            "=======================================\n"
          ]
        },
        {
          "output_type": "display_data",
          "data": {
            "text/plain": [
              "<PIL.Image.Image image mode=L size=64x64 at 0x7FCE02080BE0>"
            ],
            "image/png": "[encoded data removed]"
          },
          "metadata": {}
        },
        {
          "output_type": "stream",
          "name": "stdout",
          "text": [
            "\n",
            "LABELS    VALUES    PREDICTIONS\n",
            "Sex       \u001b[1m0         \u001b[92m0\u001b[0;0m\n",
            "Hair      \u001b[1m0         \u001b[92m0\u001b[0;0m\n",
            "Glasses   \u001b[1m0         \u001b[92m0\u001b[0;0m\n",
            "Hat       \u001b[1m0         \u001b[91m1\u001b[0;0m\n",
            "Beard     \u001b[1m1         \u001b[92m1\u001b[0;0m\n",
            "\n",
            "=======================================\n"
          ]
        },
        {
          "output_type": "display_data",
          "data": {
            "text/plain": [
              "<PIL.Image.Image image mode=L size=64x64 at 0x7FCE73341F40>"
            ],
            "image/png": "[encoded data removed]"
          },
          "metadata": {}
        },
        {
          "output_type": "stream",
          "name": "stdout",
          "text": [
            "\n",
            "LABELS    VALUES    PREDICTIONS\n",
            "Sex       \u001b[1m0         \u001b[91m1\u001b[0;0m\n",
            "Hair      \u001b[1m0         \u001b[92m0\u001b[0;0m\n",
            "Glasses   \u001b[1m0         \u001b[91m1\u001b[0;0m\n",
            "Hat       \u001b[1m0         \u001b[92m0\u001b[0;0m\n",
            "Beard     \u001b[1m0         \u001b[91m1\u001b[0;0m\n",
            "\n",
            "=======================================\n"
          ]
        },
        {
          "output_type": "display_data",
          "data": {
            "text/plain": [
              "<PIL.Image.Image image mode=L size=64x64 at 0x7FCE73341D30>"
            ],
            "image/png": "[encoded data removed]"
          },
          "metadata": {}
        },
        {
          "output_type": "stream",
          "name": "stdout",
          "text": [
            "\n",
            "LABELS    VALUES    PREDICTIONS\n",
            "Sex       \u001b[1m0         \u001b[91m1\u001b[0;0m\n",
            "Hair      \u001b[1m0         \u001b[91m1\u001b[0;0m\n",
            "Glasses   \u001b[1m0         \u001b[92m0\u001b[0;0m\n",
            "Hat       \u001b[1m0         \u001b[92m0\u001b[0;0m\n",
            "Beard     \u001b[1m0         \u001b[92m0\u001b[0;0m\n",
            "\n",
            "=======================================\n"
          ]
        },
        {
          "output_type": "display_data",
          "data": {
            "text/plain": [
              "<PIL.Image.Image image mode=L size=64x64 at 0x7FCE73341520>"
            ],
            "image/png": "[encoded data removed]"
          },
          "metadata": {}
        },
        {
          "output_type": "stream",
          "name": "stdout",
          "text": [
            "\n",
            "LABELS    VALUES    PREDICTIONS\n",
            "Sex       \u001b[1m0         \u001b[92m0\u001b[0;0m\n",
            "Hair      \u001b[1m0         \u001b[92m0\u001b[0;0m\n",
            "Glasses   \u001b[1m1         \u001b[92m1\u001b[0;0m\n",
            "Hat       \u001b[1m0         \u001b[92m0\u001b[0;0m\n",
            "Beard     \u001b[1m1         \u001b[92m1\u001b[0;0m\n",
            "\n",
            "=======================================\n"
          ]
        },
        {
          "output_type": "display_data",
          "data": {
            "text/plain": [
              "<PIL.Image.Image image mode=L size=64x64 at 0x7FCE73341BB0>"
            ],
            "image/png": "[encoded data removed]"
          },
          "metadata": {}
        },
        {
          "output_type": "stream",
          "name": "stdout",
          "text": [
            "\n",
            "LABELS    VALUES    PREDICTIONS\n",
            "Sex       \u001b[1m0         \u001b[92m0\u001b[0;0m\n",
            "Hair      \u001b[1m0         \u001b[92m0\u001b[0;0m\n",
            "Glasses   \u001b[1m0         \u001b[91m1\u001b[0;0m\n",
            "Hat       \u001b[1m0         \u001b[92m0\u001b[0;0m\n",
            "Beard     \u001b[1m1         \u001b[92m1\u001b[0;0m\n",
            "\n",
            "\n",
            "\u001b[1mPredictions for label: [Hat] value [1]\u001b[0;0m\n",
            "\n",
            "=======================================\n"
          ]
        },
        {
          "output_type": "display_data",
          "data": {
            "text/plain": [
              "<PIL.Image.Image image mode=L size=64x64 at 0x7FCE73341B50>"
            ],
            "image/png": "[encoded data removed]"
          },
          "metadata": {}
        },
        {
          "output_type": "stream",
          "name": "stdout",
          "text": [
            "\n",
            "LABELS    VALUES    PREDICTIONS\n",
            "Sex       \u001b[1m0         \u001b[92m0\u001b[0;0m\n",
            "Hair      \u001b[1m0         \u001b[92m0\u001b[0;0m\n",
            "Glasses   \u001b[1m0         \u001b[92m0\u001b[0;0m\n",
            "Hat       \u001b[1m1         \u001b[92m1\u001b[0;0m\n",
            "Beard     \u001b[1m1         \u001b[92m1\u001b[0;0m\n",
            "\n",
            "=======================================\n"
          ]
        },
        {
          "output_type": "display_data",
          "data": {
            "text/plain": [
              "<PIL.Image.Image image mode=L size=64x64 at 0x7FCE73341F40>"
            ],
            "image/png": "[encoded data removed]"
          },
          "metadata": {}
        },
        {
          "output_type": "stream",
          "name": "stdout",
          "text": [
            "\n",
            "LABELS    VALUES    PREDICTIONS\n",
            "Sex       \u001b[1m0         \u001b[91m1\u001b[0;0m\n",
            "Hair      \u001b[1m0         \u001b[92m0\u001b[0;0m\n",
            "Glasses   \u001b[1m0         \u001b[92m0\u001b[0;0m\n",
            "Hat       \u001b[1m1         \u001b[91m0\u001b[0;0m\n",
            "Beard     \u001b[1m1         \u001b[92m1\u001b[0;0m\n",
            "\n",
            "=======================================\n"
          ]
        },
        {
          "output_type": "display_data",
          "data": {
            "text/plain": [
              "<PIL.Image.Image image mode=L size=64x64 at 0x7FCE73341A00>"
            ],
            "image/png": "[encoded data removed]"
          },
          "metadata": {}
        },
        {
          "output_type": "stream",
          "name": "stdout",
          "text": [
            "\n",
            "LABELS    VALUES    PREDICTIONS\n",
            "Sex       \u001b[1m0         \u001b[92m0\u001b[0;0m\n",
            "Hair      \u001b[1m0         \u001b[92m0\u001b[0;0m\n",
            "Glasses   \u001b[1m0         \u001b[92m0\u001b[0;0m\n",
            "Hat       \u001b[1m1         \u001b[92m1\u001b[0;0m\n",
            "Beard     \u001b[1m1         \u001b[92m1\u001b[0;0m\n",
            "\n",
            "=======================================\n"
          ]
        },
        {
          "output_type": "display_data",
          "data": {
            "text/plain": [
              "<PIL.Image.Image image mode=L size=64x64 at 0x7FCE73341730>"
            ],
            "image/png": "[encoded data removed]"
          },
          "metadata": {}
        },
        {
          "output_type": "stream",
          "name": "stdout",
          "text": [
            "\n",
            "LABELS    VALUES    PREDICTIONS\n",
            "Sex       \u001b[1m0         \u001b[92m0\u001b[0;0m\n",
            "Hair      \u001b[1m0         \u001b[92m0\u001b[0;0m\n",
            "Glasses   \u001b[1m0         \u001b[92m0\u001b[0;0m\n",
            "Hat       \u001b[1m1         \u001b[92m1\u001b[0;0m\n",
            "Beard     \u001b[1m0         \u001b[92m0\u001b[0;0m\n",
            "\n",
            "=======================================\n"
          ]
        },
        {
          "output_type": "display_data",
          "data": {
            "text/plain": [
              "<PIL.Image.Image image mode=L size=64x64 at 0x7FCE733417C0>"
            ],
            "image/png": "[encoded data removed]"
          },
          "metadata": {}
        },
        {
          "output_type": "stream",
          "name": "stdout",
          "text": [
            "\n",
            "LABELS    VALUES    PREDICTIONS\n",
            "Sex       \u001b[1m0         \u001b[92m0\u001b[0;0m\n",
            "Hair      \u001b[1m0         \u001b[92m0\u001b[0;0m\n",
            "Glasses   \u001b[1m0         \u001b[92m0\u001b[0;0m\n",
            "Hat       \u001b[1m1         \u001b[92m1\u001b[0;0m\n",
            "Beard     \u001b[1m0         \u001b[92m0\u001b[0;0m\n",
            "\n",
            "\n",
            "\u001b[1mPredictions for label: [Beard] value: [0]\u001b[0;0m\n",
            "\n",
            "=======================================\n"
          ]
        },
        {
          "output_type": "display_data",
          "data": {
            "text/plain": [
              "<PIL.Image.Image image mode=L size=64x64 at 0x7FCE73341A60>"
            ],
            "image/png": "[encoded data removed]"
          },
          "metadata": {}
        },
        {
          "output_type": "stream",
          "name": "stdout",
          "text": [
            "\n",
            "LABELS    VALUES    PREDICTIONS\n",
            "Sex       \u001b[1m1         \u001b[92m1\u001b[0;0m\n",
            "Hair      \u001b[1m1         \u001b[92m1\u001b[0;0m\n",
            "Glasses   \u001b[1m0         \u001b[92m0\u001b[0;0m\n",
            "Hat       \u001b[1m0         \u001b[92m0\u001b[0;0m\n",
            "Beard     \u001b[1m0         \u001b[92m0\u001b[0;0m\n",
            "\n",
            "=======================================\n"
          ]
        },
        {
          "output_type": "display_data",
          "data": {
            "text/plain": [
              "<PIL.Image.Image image mode=L size=64x64 at 0x7FCE73341BB0>"
            ],
            "image/png": "[encoded data removed]"
          },
          "metadata": {}
        },
        {
          "output_type": "stream",
          "name": "stdout",
          "text": [
            "\n",
            "LABELS    VALUES    PREDICTIONS\n",
            "Sex       \u001b[1m1         \u001b[92m1\u001b[0;0m\n",
            "Hair      \u001b[1m1         \u001b[92m1\u001b[0;0m\n",
            "Glasses   \u001b[1m0         \u001b[92m0\u001b[0;0m\n",
            "Hat       \u001b[1m0         \u001b[92m0\u001b[0;0m\n",
            "Beard     \u001b[1m0         \u001b[92m0\u001b[0;0m\n",
            "\n",
            "=======================================\n"
          ]
        },
        {
          "output_type": "display_data",
          "data": {
            "text/plain": [
              "<PIL.Image.Image image mode=L size=64x64 at 0x7FCE73341AC0>"
            ],
            "image/png": "[encoded data removed]"
          },
          "metadata": {}
        },
        {
          "output_type": "stream",
          "name": "stdout",
          "text": [
            "\n",
            "LABELS    VALUES    PREDICTIONS\n",
            "Sex       \u001b[1m0         \u001b[91m1\u001b[0;0m\n",
            "Hair      \u001b[1m0         \u001b[92m0\u001b[0;0m\n",
            "Glasses   \u001b[1m0         \u001b[92m0\u001b[0;0m\n",
            "Hat       \u001b[1m0         \u001b[91m1\u001b[0;0m\n",
            "Beard     \u001b[1m0         \u001b[91m1\u001b[0;0m\n",
            "\n",
            "=======================================\n"
          ]
        },
        {
          "output_type": "display_data",
          "data": {
            "text/plain": [
              "<PIL.Image.Image image mode=L size=64x64 at 0x7FCE73341B50>"
            ],
            "image/png": "[encoded data removed]"
          },
          "metadata": {}
        },
        {
          "output_type": "stream",
          "name": "stdout",
          "text": [
            "\n",
            "LABELS    VALUES    PREDICTIONS\n",
            "Sex       \u001b[1m1         \u001b[92m1\u001b[0;0m\n",
            "Hair      \u001b[1m0         \u001b[92m0\u001b[0;0m\n",
            "Glasses   \u001b[1m0         \u001b[92m0\u001b[0;0m\n",
            "Hat       \u001b[1m0         \u001b[92m0\u001b[0;0m\n",
            "Beard     \u001b[1m0         \u001b[92m0\u001b[0;0m\n",
            "\n",
            "=======================================\n"
          ]
        },
        {
          "output_type": "display_data",
          "data": {
            "text/plain": [
              "<PIL.Image.Image image mode=L size=64x64 at 0x7FCE73341070>"
            ],
            "image/png": "[encoded data removed]"
          },
          "metadata": {}
        },
        {
          "output_type": "stream",
          "name": "stdout",
          "text": [
            "\n",
            "LABELS    VALUES    PREDICTIONS\n",
            "Sex       \u001b[1m0         \u001b[91m1\u001b[0;0m\n",
            "Hair      \u001b[1m0         \u001b[92m0\u001b[0;0m\n",
            "Glasses   \u001b[1m0         \u001b[91m1\u001b[0;0m\n",
            "Hat       \u001b[1m0         \u001b[92m0\u001b[0;0m\n",
            "Beard     \u001b[1m0         \u001b[91m1\u001b[0;0m\n",
            "\n",
            "\n",
            "\u001b[1mPredictions for label: [Beard] value [1]\u001b[0;0m\n",
            "\n",
            "=======================================\n"
          ]
        },
        {
          "output_type": "display_data",
          "data": {
            "text/plain": [
              "<PIL.Image.Image image mode=L size=64x64 at 0x7FCE73341A60>"
            ],
            "image/png": "[encoded data removed]"
          },
          "metadata": {}
        },
        {
          "output_type": "stream",
          "name": "stdout",
          "text": [
            "\n",
            "LABELS    VALUES    PREDICTIONS\n",
            "Sex       \u001b[1m0         \u001b[91m1\u001b[0;0m\n",
            "Hair      \u001b[1m0         \u001b[92m0\u001b[0;0m\n",
            "Glasses   \u001b[1m0         \u001b[92m0\u001b[0;0m\n",
            "Hat       \u001b[1m1         \u001b[92m1\u001b[0;0m\n",
            "Beard     \u001b[1m1         \u001b[92m1\u001b[0;0m\n",
            "\n",
            "=======================================\n"
          ]
        },
        {
          "output_type": "display_data",
          "data": {
            "text/plain": [
              "<PIL.Image.Image image mode=L size=64x64 at 0x7FCE73341BB0>"
            ],
            "image/png": "[encoded data removed]"
          },
          "metadata": {}
        },
        {
          "output_type": "stream",
          "name": "stdout",
          "text": [
            "\n",
            "LABELS    VALUES    PREDICTIONS\n",
            "Sex       \u001b[1m0         \u001b[92m0\u001b[0;0m\n",
            "Hair      \u001b[1m0         \u001b[92m0\u001b[0;0m\n",
            "Glasses   \u001b[1m0         \u001b[92m0\u001b[0;0m\n",
            "Hat       \u001b[1m0         \u001b[92m0\u001b[0;0m\n",
            "Beard     \u001b[1m1         \u001b[92m1\u001b[0;0m\n",
            "\n",
            "=======================================\n"
          ]
        },
        {
          "output_type": "display_data",
          "data": {
            "text/plain": [
              "<PIL.Image.Image image mode=L size=64x64 at 0x7FCE733410A0>"
            ],
            "image/png": "[encoded data removed]"
          },
          "metadata": {}
        },
        {
          "output_type": "stream",
          "name": "stdout",
          "text": [
            "\n",
            "LABELS    VALUES    PREDICTIONS\n",
            "Sex       \u001b[1m0         \u001b[92m0\u001b[0;0m\n",
            "Hair      \u001b[1m1         \u001b[92m1\u001b[0;0m\n",
            "Glasses   \u001b[1m1         \u001b[92m1\u001b[0;0m\n",
            "Hat       \u001b[1m0         \u001b[92m0\u001b[0;0m\n",
            "Beard     \u001b[1m1         \u001b[92m1\u001b[0;0m\n",
            "\n",
            "=======================================\n"
          ]
        },
        {
          "output_type": "display_data",
          "data": {
            "text/plain": [
              "<PIL.Image.Image image mode=L size=64x64 at 0x7FCE733412E0>"
            ],
            "image/png": "[encoded data removed]"
          },
          "metadata": {}
        },
        {
          "output_type": "stream",
          "name": "stdout",
          "text": [
            "\n",
            "LABELS    VALUES    PREDICTIONS\n",
            "Sex       \u001b[1m0         \u001b[92m0\u001b[0;0m\n",
            "Hair      \u001b[1m0         \u001b[92m0\u001b[0;0m\n",
            "Glasses   \u001b[1m0         \u001b[92m0\u001b[0;0m\n",
            "Hat       \u001b[1m0         \u001b[92m0\u001b[0;0m\n",
            "Beard     \u001b[1m1         \u001b[92m1\u001b[0;0m\n",
            "\n",
            "=======================================\n"
          ]
        },
        {
          "output_type": "display_data",
          "data": {
            "text/plain": [
              "<PIL.Image.Image image mode=L size=64x64 at 0x7FCE73341640>"
            ],
            "image/png": "[encoded data removed]"
          },
          "metadata": {}
        },
        {
          "output_type": "stream",
          "name": "stdout",
          "text": [
            "\n",
            "LABELS    VALUES    PREDICTIONS\n",
            "Sex       \u001b[1m0         \u001b[92m0\u001b[0;0m\n",
            "Hair      \u001b[1m0         \u001b[92m0\u001b[0;0m\n",
            "Glasses   \u001b[1m0         \u001b[92m0\u001b[0;0m\n",
            "Hat       \u001b[1m0         \u001b[92m0\u001b[0;0m\n",
            "Beard     \u001b[1m1         \u001b[92m1\u001b[0;0m\n"
          ]
        }
      ]
    }
  ],
  "metadata": {
    "accelerator": "GPU",
    "colab": {
      "provenance": [],
      "authorship_tag": "ABX9TyNLxxhbzieAzadHwQwHL7TG",
      "include_colab_link": true
    },
    "gpuClass": "standard",
    "kernelspec": {
      "display_name": "Python 3",
      "name": "python3"
    },
    "language_info": {
      "name": "python"
    }
  },
  "nbformat": 4,
  "nbformat_minor": 0
}