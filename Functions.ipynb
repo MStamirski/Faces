{
  "nbformat": 4,
  "nbformat_minor": 0,
  "metadata": {
    "colab": {
      "provenance": [],
      "authorship_tag": "ABX9TyOfVZ+g/KPs+fSkJpT1KOu4",
      "include_colab_link": true
    },
    "kernelspec": {
      "name": "python3",
      "display_name": "Python 3"
    },
    "language_info": {
      "name": "python"
    },
    "accelerator": "GPU",
    "gpuClass": "standard"
  },
  "cells": [
    {
      "cell_type": "markdown",
      "metadata": {
        "id": "view-in-github",
        "colab_type": "text"
      },
      "source": [
        "<a href=\"https://colab.research.google.com/github/MStamirski/Faces/blob/main/Functions.ipynb\" target=\"_parent\"><img src=\"https://colab.research.google.com/assets/colab-badge.svg\" alt=\"Open In Colab\"/></a>"
      ]
    },
    {
      "cell_type": "code",
      "source": [
        "import numpy as np\n",
        "from matplotlib import pyplot as plt\n",
        "from PIL import Image, ImageFilter\n",
        "import random\n",
        "from keras.metrics import Precision\n",
        "from keras.metrics import Recall"
      ],
      "metadata": {
        "id": "7VTizo-K89-R"
      },
      "execution_count": null,
      "outputs": []
    },
    {
      "cell_type": "code",
      "source": [
        "def prepare_data(input, output, char_for_positive):\n",
        "\n",
        "  def get_target_values(target_chars, lab_char):\n",
        "    targets = [1.0 if x==lab_char else 0.0 for x in target_chars]\n",
        "    return np.array(targets)\n",
        "\n",
        "  X = input / 255\n",
        "  y = get_target_values(output, char_for_positive)\n",
        "  return X, y"
      ],
      "metadata": {
        "id": "-lKF2gbGNBU0"
      },
      "execution_count": null,
      "outputs": []
    },
    {
      "cell_type": "code",
      "source": [
        "def plot_history(history):\n",
        "  hist = history.history\n",
        "  \n",
        "  fig, ax = plt.subplots(figsize=[8,6])\n",
        "  ax.grid()\n",
        "  ax.plot(hist['loss'], 'r',linewidth=3.0, label='training')\n",
        "  ax.plot(hist['val_loss'], 'b',linewidth=3.0, label='validation')\n",
        "  ax.set_xlabel('Epochs')\n",
        "  ax.legend()\n",
        "  ax.set_title('Loss function')\n",
        "  plt.show()\n",
        "\n",
        "  fig, ax = plt.subplots(figsize=[8,6])\n",
        "  ax.grid()\n",
        "  ax.plot(hist['precision'], 'r',linewidth=3.0, label='training')\n",
        "  ax.plot(hist['val_precision'], 'b',linewidth=3.0, label='validation')\n",
        "  ax.set_xlabel('Epochs')\n",
        "  ax.legend()\n",
        "  ax.set_title('Precision')\n",
        "  plt.show()\n",
        "\n",
        "  fig, ax = plt.subplots(figsize=[8,6])\n",
        "  ax.grid()\n",
        "  ax.plot(hist['recall'], 'r',linewidth=3.0, label='training')\n",
        "  ax.plot(hist['val_recall'], 'b',linewidth=3.0, label='validation')\n",
        "  ax.set_xlabel('Epochs')\n",
        "  ax.legend()\n",
        "  ax.set_title('Recall')\n",
        "  plt.show()"
      ],
      "metadata": {
        "id": "24mB6lOq4WMm"
      },
      "execution_count": null,
      "outputs": []
    },
    {
      "cell_type": "code",
      "source": [
        "def show_metrics(y_test, y_pred):\n",
        "  precision = Precision()\n",
        "  precision.update_state(y_test, y_pred)\n",
        "  prec_res = precision.result()\n",
        "  print(f\"Precision: {prec_res}\")\n",
        "\n",
        "  recall = Recall()\n",
        "  recall.update_state(y_test, y_pred)\n",
        "  rec_res = recall.result()\n",
        "  print(f\"Recall: {rec_res}\")\n",
        "\n",
        "  F1 = 2 * (prec_res * rec_res) / (prec_res + rec_res)\n",
        "  print(f\"F1 Score: {F1}\")"
      ],
      "metadata": {
        "id": "BYibQJ_c4alm"
      },
      "execution_count": null,
      "outputs": []
    },
    {
      "cell_type": "code",
      "source": [
        "def get_best_threshold(y_test, y_pred):\n",
        "\n",
        "  thresholds = list(np.arange(0.05, 1.0, 0.05))\n",
        "\n",
        "  prec = Precision(thresholds = thresholds)\n",
        "  prec.update_state(y_test, y_pred)\n",
        "  precisions = prec.result()\n",
        "\n",
        "  rec = Recall(thresholds = thresholds)\n",
        "  rec.update_state(y_test, y_pred)\n",
        "  recalls = rec.result()\n",
        "\n",
        "  max_F1 = 0\n",
        "  best_threshold = 0.5\n",
        "  for precision, recall, threshold in zip(precisions, recalls, thresholds):\n",
        "    F1 = 2 * (precision * recall) / (precision + recall)\n",
        "    if F1 > max_F1:\n",
        "      max_F1 = F1\n",
        "      best_threshold = threshold\n",
        "\n",
        "  return best_threshold"
      ],
      "metadata": {
        "id": "O--AQEyNNiQf"
      },
      "execution_count": null,
      "outputs": []
    },
    {
      "cell_type": "code",
      "source": [
        "def get_tuned_prediction(y_pred, threshold):\n",
        "  return np.array([[1.0 if lab>= threshold else 0.0 for lab in labs] for labs in y_pred])"
      ],
      "metadata": {
        "id": "6mr685NSXpBX"
      },
      "execution_count": null,
      "outputs": []
    },
    {
      "cell_type": "code",
      "source": [
        "def make_prediction(model, X_test, y_test):\n",
        "  y_pred = model.predict(X_test)\n",
        "  print(\"\\nMetrics before tuning\")\n",
        "  show_metrics(y_test, y_pred)\n",
        "\n",
        "  threshold = get_best_threshold(y_test, y_pred)\n",
        "  print(f\"\\nBest threshold: {threshold}\")\n",
        "\n",
        "  y_pred_tuned = get_tuned_prediction(y_pred, threshold)\n",
        "  print(\"\\nMetrics after tuning\")\n",
        "  show_metrics(y_test, y_pred_tuned)\n",
        "\n",
        "  return y_pred_tuned"
      ],
      "metadata": {
        "id": "EbWnmU5YM4qE"
      },
      "execution_count": null,
      "outputs": []
    },
    {
      "cell_type": "code",
      "source": [
        "def show_prediction(ind, faces, targets, targets_pred):\n",
        "  face = Image.fromarray(faces[ind]*255)  # faces were normalized\n",
        "  face.show()\n",
        "  print(f\"Label value: {int(targets[ind])}, Prediction: {int(targets_pred[ind][0])}\\n\")"
      ],
      "metadata": {
        "id": "qmcURgn74geF"
      },
      "execution_count": null,
      "outputs": []
    },
    {
      "cell_type": "code",
      "source": [
        "def show_predictions(faces, targets, targets_pred):\n",
        "\n",
        "  cls0_ind_list  = [ind for (ind, value) in enumerate(list(targets)) if round(value,0) == 0]\n",
        "  cls1_ind_list  = [ind for (ind, value) in enumerate(list(targets)) if round(value,0) == 1]\n",
        "\n",
        "  cls0_ind_shortlist = random.choices(cls0_ind_list, k=5)\n",
        "  cls1_ind_shortlist = random.choices(cls1_ind_list, k=5)\n",
        "\n",
        "  print(\"============ Predictions for label value 0 ===================\")\n",
        "  for ind in cls0_ind_shortlist:\n",
        "    show_prediction(ind, faces, targets, targets_pred)\n",
        "  \n",
        "  print(\"\\n============ Predictions for label value 1 ===================\")\n",
        "  for ind in cls1_ind_shortlist:\n",
        "    show_prediction(ind, faces, targets, targets_pred)"
      ],
      "metadata": {
        "id": "oRytRBI_4k6J"
      },
      "execution_count": null,
      "outputs": []
    }
  ]
}