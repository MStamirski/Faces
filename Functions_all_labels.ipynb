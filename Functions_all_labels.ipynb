{
  "nbformat": 4,
  "nbformat_minor": 0,
  "metadata": {
    "colab": {
      "provenance": [],
      "authorship_tag": "ABX9TyNgJPFwuwY5gCMlATUZxNyV",
      "include_colab_link": true
    },
    "kernelspec": {
      "name": "python3",
      "display_name": "Python 3"
    },
    "language_info": {
      "name": "python"
    },
    "accelerator": "GPU",
    "gpuClass": "standard"
  },
  "cells": [
    {
      "cell_type": "markdown",
      "metadata": {
        "id": "view-in-github",
        "colab_type": "text"
      },
      "source": [
        "<a href=\"https://colab.research.google.com/github/MStamirski/Faces/blob/main/Functions_all_labels.ipynb\" target=\"_parent\"><img src=\"https://colab.research.google.com/assets/colab-badge.svg\" alt=\"Open In Colab\"/></a>"
      ]
    },
    {
      "cell_type": "code",
      "source": [
        "import numpy as np\n",
        "import random\n",
        "from PIL import Image"
      ],
      "metadata": {
        "id": "UpNp2Lw46nvN"
      },
      "execution_count": null,
      "outputs": []
    },
    {
      "cell_type": "code",
      "source": [
        "def prepare_data(input, sex, hair, glasses, hat, beard, chars_for_positives):\n",
        "\n",
        "  def get_target_values(target_chars, lab_char):\n",
        "    targets = [1.0 if x==lab_char else 0.0 for x in target_chars]\n",
        "    return np.array(targets)\n",
        "\n",
        "  X = input / 255\n",
        "  y1 = get_target_values(sex, chars_for_positives[0])\n",
        "  y2 = get_target_values(hair, chars_for_positives[1])\n",
        "  y3 = get_target_values(glasses, chars_for_positives[2])\n",
        "  y4 = get_target_values(hat, chars_for_positives[3])\n",
        "  y5 = get_target_values(beard, chars_for_positives[4])\n",
        "  y = np.column_stack((y1, y2, y3, y4, y5))\n",
        "  return X, y"
      ],
      "metadata": {
        "id": "-lKF2gbGNBU0"
      },
      "execution_count": null,
      "outputs": []
    },
    {
      "cell_type": "code",
      "source": [
        "def show_prediction(ind, faces, targets, targets_pred):\n",
        "  face = Image.fromarray(faces[ind]*255)  # faces were normalized\n",
        "  lab_names = [\"Sex\", \"Hair\", \"Glasses\", \"Hat\", \"Beard\"]\n",
        "  print(\"\\n=======================================\")\n",
        "\n",
        "  face.show()\n",
        "  print(\"\\nLABELS    VALUES    PREDICTIONS\")\n",
        "\n",
        "  for labind, labval in enumerate(targets[ind]):\n",
        "    resfmt='\\033[0;0m'     # reset print settings\n",
        "    tgtfmt='\\033[1m'       # set bold\n",
        "\n",
        "    if int(labval)==int(targets_pred[ind][labind]):\n",
        "      prdfmt='\\033[92m'    # set green\n",
        "    else:\n",
        "      prdfmt='\\033[91m'    # set red\n",
        "    \n",
        "    print(f\"{lab_names[labind].ljust(10)}\", end=\"\")\n",
        "    print(f\"{tgtfmt}{int(labval)}         \", end=\"\")\n",
        "    print(f\"{prdfmt}{int(targets_pred[ind][labind])}{resfmt}\")"
      ],
      "metadata": {
        "id": "qmcURgn74geF"
      },
      "execution_count": null,
      "outputs": []
    },
    {
      "cell_type": "code",
      "source": [
        "def show_predictions(faces, targets, targets_pred):\n",
        "\n",
        "  lab_names = [\"Sex\", \"Hair\", \"Glasses\", \"Hat\", \"Beard\"]\n",
        "  resfmt='\\033[0;0m'     # reset print settings\n",
        "  bldfmt='\\033[1m'       # set bold\n",
        "\n",
        "  for labind, labname in enumerate(lab_names):\n",
        "\n",
        "    # indexes of targets with labels only 0 or 1\n",
        "    cls0_ind_list  = [ind for (ind, labs) in enumerate(list(targets)) if round(labs[labind],0) == 0]\n",
        "    cls1_ind_list  = [ind for (ind, labs) in enumerate(list(targets)) if round(labs[labind],0) == 1]\n",
        "\n",
        "    cls0_ind_shortlist = random.choices(cls0_ind_list, k=5)\n",
        "    cls1_ind_shortlist = random.choices(cls1_ind_list, k=5)\n",
        "\n",
        "    print(f\"\\n\\n{bldfmt}Predictions for label: [{labname}] value: [0]{resfmt}\")\n",
        "    for ind in cls0_ind_shortlist:\n",
        "      show_prediction(ind, faces, targets, targets_pred)\n",
        "  \n",
        "    print(f\"\\n\\n{bldfmt}Predictions for label: [{labname}] value [1]{resfmt}\")\n",
        "    for ind in cls1_ind_shortlist:\n",
        "      show_prediction(ind, faces, targets, targets_pred)"
      ],
      "metadata": {
        "id": "oRytRBI_4k6J"
      },
      "execution_count": null,
      "outputs": []
    }
  ]
}