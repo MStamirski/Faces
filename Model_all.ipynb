{
  "nbformat": 4,
  "nbformat_minor": 0,
  "metadata": {
    "colab": {
      "provenance": [],
      "authorship_tag": "ABX9TyPt1m73zSvxaHOomlSV9e47",
      "include_colab_link": true
    },
    "kernelspec": {
      "name": "python3",
      "display_name": "Python 3"
    },
    "language_info": {
      "name": "python"
    },
    "gpuClass": "standard"
  },
  "cells": [
    {
      "cell_type": "markdown",
      "metadata": {
        "id": "view-in-github",
        "colab_type": "text"
      },
      "source": [
        "<a href=\"https://colab.research.google.com/github/MStamirski/Faces/blob/main/Model_all.ipynb\" target=\"_parent\"><img src=\"https://colab.research.google.com/assets/colab-badge.svg\" alt=\"Open In Colab\"/></a>"
      ]
    },
    {
      "cell_type": "code",
      "source": [
        "from google.colab import drive\n",
        "drive.mount(\"/content/drive\")\n",
        "%cd \"/content/drive/MyDrive/Colab_Notebooks/SDA_upskill/Faces\""
      ],
      "metadata": {
        "id": "Oft_bsElxcYx"
      },
      "execution_count": null,
      "outputs": []
    },
    {
      "cell_type": "code",
      "execution_count": null,
      "metadata": {
        "id": "LIk_89iboiz2"
      },
      "outputs": [],
      "source": [
        "!pip install import-ipynb"
      ]
    },
    {
      "cell_type": "code",
      "source": [
        "!pip install -q -U keras-tuner"
      ],
      "metadata": {
        "id": "U4ImRuzJe4C5"
      },
      "execution_count": null,
      "outputs": []
    },
    {
      "cell_type": "code",
      "source": [
        "import numpy as np\n",
        "from matplotlib import pyplot as plt\n",
        "from PIL import Image, ImageFilter\n",
        "import random\n",
        "from sklearn.model_selection import train_test_split\n",
        "from keras.models import Sequential\n",
        "from keras.layers import Conv2D\n",
        "from keras.layers import MaxPooling2D\n",
        "from keras.layers import Dense\n",
        "from keras.layers import Flatten\n",
        "from keras.metrics import Precision\n",
        "from keras.metrics import Recall\n",
        "from keras_tuner import Hyperband\n",
        "from keras_tuner import Objective\n",
        "import import_ipynb"
      ],
      "metadata": {
        "id": "te1QhsF_L3ne"
      },
      "execution_count": null,
      "outputs": []
    },
    {
      "cell_type": "markdown",
      "source": [
        "# Import custom functions"
      ],
      "metadata": {
        "id": "9-djBNMWTSM-"
      }
    },
    {
      "cell_type": "code",
      "source": [
        "from Dataset_prep import get_labels, get_faces"
      ],
      "metadata": {
        "id": "2x6kXOhkoog6"
      },
      "execution_count": null,
      "outputs": []
    },
    {
      "cell_type": "code",
      "source": [
        "from Functions import plot_history, show_metrics\n",
        "from Functions import get_best_threshold, get_tuned_prediction, make_prediction"
      ],
      "metadata": {
        "id": "TDCky7AvwIj6"
      },
      "execution_count": null,
      "outputs": []
    },
    {
      "cell_type": "code",
      "source": [
        "from Functions_all_labels import prepare_data, show_prediction, show_predictions"
      ],
      "metadata": {
        "id": "EvT7SlkP0SXJ"
      },
      "execution_count": null,
      "outputs": []
    },
    {
      "cell_type": "markdown",
      "source": [
        "# Data for model"
      ],
      "metadata": {
        "id": "H7TfCuxNT_gK"
      }
    },
    {
      "cell_type": "code",
      "source": [
        "labels = get_labels()\n",
        "faces, sex, hair, glasses, hat, beard = get_faces(labels, 'photos_dst/')"
      ],
      "metadata": {
        "colab": {
          "base_uri": "https://localhost:8080/"
        },
        "id": "EYpKdHGN90_i",
        "outputId": "808bb645-ada7-42e6-96f7-18aa3ae7d6e5"
      },
      "execution_count": null,
      "outputs": [
        {
          "output_type": "stream",
          "name": "stdout",
          "text": [
            "Processing face nr 1349\n",
            "Created dataset contains 5300 faces.\n"
          ]
        }
      ]
    },
    {
      "cell_type": "code",
      "source": [
        "X, y = prepare_data(faces, sex, hair, glasses, hat, beard, ['F', 'L', 'Y', 'Y', 'Y'])"
      ],
      "metadata": {
        "id": "sP56XruHOAnc"
      },
      "execution_count": null,
      "outputs": []
    },
    {
      "cell_type": "code",
      "source": [
        "X_train, X_test, y_train, y_test = train_test_split(X, y, test_size = 0.2, random_state=42)\n",
        "X_train, X_val, y_train, y_val = train_test_split(X_train, y_train, test_size = 0.2, random_state=43)"
      ],
      "metadata": {
        "id": "FGuliHdV_LHi"
      },
      "execution_count": null,
      "outputs": []
    },
    {
      "cell_type": "markdown",
      "source": [
        "# Model"
      ],
      "metadata": {
        "id": "GTSthtlKUCzC"
      }
    },
    {
      "cell_type": "code",
      "source": [
        "def model_builder(hyppar):\n",
        "\n",
        "  model = Sequential([\n",
        "    Conv2D(\n",
        "      filters = hyppar.Int('conv_1_filter', min_value=32, max_value=160, step=16),\n",
        "      kernel_size = 3, \n",
        "      activation = 'relu', \n",
        "      input_shape = [64, 64, 1]\n",
        "    ),\n",
        "    MaxPooling2D((2, 2)),\n",
        "    Conv2D(\n",
        "      filters = hyppar.Int('conv_2_filter', min_value=64, max_value=320, step=32),\n",
        "      kernel_size = 2, \n",
        "      activation = 'relu'\n",
        "    ),\n",
        "    MaxPooling2D((2, 2)),\n",
        "    Conv2D(\n",
        "      filters = hyppar.Int('conv_3_filter', min_value=128, max_value=640, step=64),\n",
        "      kernel_size = 2,\n",
        "      activation = 'relu'\n",
        "    ),\n",
        "    Flatten(),\n",
        "    Dense(\n",
        "      units = hyppar.Int('dense_units', min_value=256, max_value=1280, step=128),\n",
        "      activation='relu'\n",
        "    ),\n",
        "    Dense(5, activation ='sigmoid')\n",
        "  ])\n",
        "\n",
        "  model.compile(optimizer='adam', loss='binary_crossentropy', metrics=[Precision(name='precision'), Recall(name='recall')])\n",
        "\n",
        "  return model"
      ],
      "metadata": {
        "id": "RzOn63oyu8W0"
      },
      "execution_count": null,
      "outputs": []
    },
    {
      "cell_type": "code",
      "source": [
        "tuner = Hyperband(hypermodel = model_builder,\n",
        "                  objective = Objective(\"val_loss\", direction=\"min\"),\n",
        "                  max_epochs = 20,\n",
        "\t\t\t\t\t        project_name='hyperband_tuner')"
      ],
      "metadata": {
        "id": "IHho6xpGCQ8h"
      },
      "execution_count": null,
      "outputs": []
    },
    {
      "cell_type": "code",
      "source": [
        "tuner.search(X_train, y_train, epochs=20, validation_data=(X_val, y_val))"
      ],
      "metadata": {
        "colab": {
          "base_uri": "https://localhost:8080/"
        },
        "id": "xv0hL8aynIdP",
        "outputId": "e0ef9ac3-c5b1-4bd1-f194-11874c44af6f"
      },
      "execution_count": null,
      "outputs": [
        {
          "output_type": "stream",
          "name": "stdout",
          "text": [
            "Trial 24 Complete [00h 02m 23s]\n",
            "val_loss: 0.16859516501426697\n",
            "\n",
            "Best val_loss So Far: 0.14508342742919922\n",
            "Total elapsed time: 00h 16m 32s\n"
          ]
        }
      ]
    },
    {
      "cell_type": "code",
      "source": [
        "best_hyppar = tuner.get_best_hyperparameters(num_trials=1)[0]\n",
        "print(\"Best hyperparameters\")\n",
        "print(f\"Number of filters in 1 convolution layer: {best_hyppar.get('conv_1_filter')}\")\n",
        "print(f\"Number of filters in 2 convolution layer: {best_hyppar.get('conv_2_filter')}\")\n",
        "print(f\"Number of filters in 3 convolution layer: {best_hyppar.get('conv_3_filter')}\")\n",
        "print(f\"Number of units in fully connected layer: {best_hyppar.get('dense_units')}\")\n",
        "model = tuner.get_best_models(num_models=1)[0]\n",
        "model.summary()"
      ],
      "metadata": {
        "colab": {
          "base_uri": "https://localhost:8080/"
        },
        "id": "Sr1n98vtp8lW",
        "outputId": "13a22e46-7b4b-45f5-d715-45183f10bc44"
      },
      "execution_count": null,
      "outputs": [
        {
          "output_type": "stream",
          "name": "stdout",
          "text": [
            "Best hyperparameters\n",
            "Number of filters in 1 convolution layer: 64\n",
            "Number of filters in 2 convolution layer: 128\n",
            "Number of filters in 3 convolution layer: 576\n",
            "Number of units in fully connected layer: 1152\n",
            "Model: \"sequential\"\n",
            "_________________________________________________________________\n",
            " Layer (type)                Output Shape              Param #   \n",
            "=================================================================\n",
            " conv2d (Conv2D)             (None, 62, 62, 64)        640       \n",
            "                                                                 \n",
            " max_pooling2d (MaxPooling2D  (None, 31, 31, 64)       0         \n",
            " )                                                               \n",
            "                                                                 \n",
            " conv2d_1 (Conv2D)           (None, 30, 30, 128)       32896     \n",
            "                                                                 \n",
            " max_pooling2d_1 (MaxPooling  (None, 15, 15, 128)      0         \n",
            " 2D)                                                             \n",
            "                                                                 \n",
            " conv2d_2 (Conv2D)           (None, 14, 14, 576)       295488    \n",
            "                                                                 \n",
            " flatten (Flatten)           (None, 112896)            0         \n",
            "                                                                 \n",
            " dense (Dense)               (None, 1152)              130057344 \n",
            "                                                                 \n",
            " dense_1 (Dense)             (None, 5)                 5765      \n",
            "                                                                 \n",
            "=================================================================\n",
            "Total params: 130,392,133\n",
            "Trainable params: 130,392,133\n",
            "Non-trainable params: 0\n",
            "_________________________________________________________________\n"
          ]
        }
      ]
    },
    {
      "cell_type": "code",
      "source": [
        "model = Sequential([\n",
        "    Conv2D(64, (3, 3), activation='relu', input_shape = [64, 64, 1]),\n",
        "    MaxPooling2D((2, 2)),\n",
        "    Conv2D(128, (2, 2), activation='relu'),\n",
        "    MaxPooling2D((2, 2)),\n",
        "    Conv2D(576, (2, 2), activation='relu'),\n",
        "    Flatten(),\n",
        "    Dense(1152, activation='relu'),\n",
        "    Dense(5, activation ='sigmoid')\n",
        "])"
      ],
      "metadata": {
        "id": "brKuFjgeDyC5"
      },
      "execution_count": null,
      "outputs": []
    },
    {
      "cell_type": "code",
      "source": [
        "model.compile(optimizer='adam', loss='binary_crossentropy', metrics=[Precision(name='precision'), Recall(name='recall')])"
      ],
      "metadata": {
        "id": "8cYQKI-xSTO-"
      },
      "execution_count": null,
      "outputs": []
    },
    {
      "cell_type": "code",
      "source": [
        "history = model.fit(X_train, y_train, epochs=20, batch_size=64, validation_data=(X_val, y_val), verbose=1)"
      ],
      "metadata": {
        "colab": {
          "base_uri": "https://localhost:8080/"
        },
        "id": "ATjJ9WlBIczv",
        "outputId": "b02d1b68-c612-4189-b420-fba16c8b82fa"
      },
      "execution_count": null,
      "outputs": [
        {
          "output_type": "stream",
          "name": "stdout",
          "text": [
            "Epoch 1/20\n",
            "53/53 [==============================] - 14s 56ms/step - loss: 0.4567 - precision: 0.6226 - recall: 0.3986 - val_loss: 0.3714 - val_precision: 0.7172 - val_recall: 0.5946\n",
            "Epoch 2/20\n",
            "53/53 [==============================] - 3s 47ms/step - loss: 0.3275 - precision: 0.7927 - recall: 0.5735 - val_loss: 0.2850 - val_precision: 0.7778 - val_recall: 0.6549\n",
            "Epoch 3/20\n",
            "53/53 [==============================] - 3s 48ms/step - loss: 0.2452 - precision: 0.8370 - recall: 0.7131 - val_loss: 0.2506 - val_precision: 0.8499 - val_recall: 0.6891\n",
            "Epoch 4/20\n",
            "53/53 [==============================] - 3s 49ms/step - loss: 0.1807 - precision: 0.8844 - recall: 0.8025 - val_loss: 0.2049 - val_precision: 0.8295 - val_recall: 0.8028\n",
            "Epoch 5/20\n",
            "53/53 [==============================] - 3s 48ms/step - loss: 0.1342 - precision: 0.9114 - recall: 0.8670 - val_loss: 0.1756 - val_precision: 0.8981 - val_recall: 0.7978\n",
            "Epoch 6/20\n",
            "53/53 [==============================] - 3s 48ms/step - loss: 0.0947 - precision: 0.9418 - recall: 0.9065 - val_loss: 0.1664 - val_precision: 0.9003 - val_recall: 0.8360\n",
            "Epoch 7/20\n",
            "53/53 [==============================] - 3s 53ms/step - loss: 0.0568 - precision: 0.9681 - recall: 0.9486 - val_loss: 0.1457 - val_precision: 0.9229 - val_recall: 0.8793\n",
            "Epoch 8/20\n",
            "53/53 [==============================] - 3s 49ms/step - loss: 0.0361 - precision: 0.9809 - recall: 0.9709 - val_loss: 0.1596 - val_precision: 0.9139 - val_recall: 0.8863\n",
            "Epoch 9/20\n",
            "53/53 [==============================] - 3s 49ms/step - loss: 0.0212 - precision: 0.9881 - recall: 0.9847 - val_loss: 0.1627 - val_precision: 0.8979 - val_recall: 0.9115\n",
            "Epoch 10/20\n",
            "53/53 [==============================] - 3s 49ms/step - loss: 0.0168 - precision: 0.9898 - recall: 0.9903 - val_loss: 0.1793 - val_precision: 0.9209 - val_recall: 0.9024\n",
            "Epoch 11/20\n",
            "53/53 [==============================] - 3s 48ms/step - loss: 0.0123 - precision: 0.9939 - recall: 0.9925 - val_loss: 0.1882 - val_precision: 0.9095 - val_recall: 0.9306\n",
            "Epoch 12/20\n",
            "53/53 [==============================] - 3s 48ms/step - loss: 0.0111 - precision: 0.9930 - recall: 0.9920 - val_loss: 0.1951 - val_precision: 0.9418 - val_recall: 0.8954\n",
            "Epoch 13/20\n",
            "53/53 [==============================] - 3s 49ms/step - loss: 0.0176 - precision: 0.9872 - recall: 0.9869 - val_loss: 0.1762 - val_precision: 0.9361 - val_recall: 0.8994\n",
            "Epoch 14/20\n",
            "53/53 [==============================] - 3s 49ms/step - loss: 0.0083 - precision: 0.9952 - recall: 0.9944 - val_loss: 0.1969 - val_precision: 0.9180 - val_recall: 0.9235\n",
            "Epoch 15/20\n",
            "53/53 [==============================] - 3s 50ms/step - loss: 0.0053 - precision: 0.9976 - recall: 0.9959 - val_loss: 0.2042 - val_precision: 0.9009 - val_recall: 0.9326\n",
            "Epoch 16/20\n",
            "53/53 [==============================] - 3s 48ms/step - loss: 0.0051 - precision: 0.9978 - recall: 0.9971 - val_loss: 0.2071 - val_precision: 0.9355 - val_recall: 0.9185\n",
            "Epoch 17/20\n",
            "53/53 [==============================] - 3s 48ms/step - loss: 0.0038 - precision: 0.9976 - recall: 0.9988 - val_loss: 0.2037 - val_precision: 0.9331 - val_recall: 0.9115\n",
            "Epoch 18/20\n",
            "53/53 [==============================] - 3s 49ms/step - loss: 0.0018 - precision: 0.9995 - recall: 0.9995 - val_loss: 0.2101 - val_precision: 0.9332 - val_recall: 0.9135\n",
            "Epoch 19/20\n",
            "53/53 [==============================] - 3s 50ms/step - loss: 3.1183e-04 - precision: 1.0000 - recall: 1.0000 - val_loss: 0.2165 - val_precision: 0.9368 - val_recall: 0.9245\n",
            "Epoch 20/20\n",
            "53/53 [==============================] - 3s 51ms/step - loss: 1.5398e-04 - precision: 1.0000 - recall: 1.0000 - val_loss: 0.2183 - val_precision: 0.9339 - val_recall: 0.9235\n"
          ]
        }
      ]
    },
    {
      "cell_type": "markdown",
      "source": [
        "# Outcome"
      ],
      "metadata": {
        "id": "kXr_paa2UNsa"
      }
    },
    {
      "cell_type": "code",
      "source": [
        "plot_history(history)"
      ],
      "metadata": {
        "colab": {
          "base_uri": "https://localhost:8080/",
          "height": 1000
        },
        "id": "WQ9au5Aj0AN-",
        "outputId": "3068add7-e194-40bb-b408-294a1ec51d60"
      },
      "execution_count": null,
      "outputs": [
        {
          "output_type": "display_data",
          "data": {
            "text/plain": [
              "<Figure size 800x600 with 1 Axes>"
            ],
            "image/png": "[encoded data removed]"
          },
          "metadata": {}
        },
        {
          "output_type": "display_data",
          "data": {
            "text/plain": [
              "<Figure size 800x600 with 1 Axes>"
            ],
            "image/png": "[encoded data removed]"
          },
          "metadata": {}
        },
        {
          "output_type": "display_data",
          "data": {
            "text/plain": [
              "<Figure size 800x600 with 1 Axes>"
            ],
            "image/png": "[encoded data removed]"
          },
          "metadata": {}
        }
      ]
    },
    {
      "cell_type": "code",
      "source": [
        "y_pred_tuned = make_prediction(model, X_test, y_test)"
      ],
      "metadata": {
        "colab": {
          "base_uri": "https://localhost:8080/"
        },
        "id": "hessDR30Pmrj",
        "outputId": "6504cb91-97c5-40fd-87e7-e6d6e88f8f11"
      },
      "execution_count": null,
      "outputs": [
        {
          "output_type": "stream",
          "name": "stdout",
          "text": [
            "34/34 [==============================] - 15s 413ms/step\n",
            "\n",
            "Metrics before tuning\n",
            "Precision: 0.9319999814033508\n",
            "Recall: 0.925337553024292\n",
            "F1 Score: 0.9286568760871887\n",
            "\n",
            "Best threshold: 0.35000000000000003\n",
            "\n",
            "Metrics after tuning\n",
            "Precision: 0.9272152185440063\n",
            "Recall: 0.9308975338935852\n",
            "F1 Score: 0.9290527105331421\n"
          ]
        }
      ]
    },
    {
      "cell_type": "code",
      "source": [
        "show_predictions(X_test, y_test, y_pred_tuned)"
      ],
      "metadata": {
        "colab": {
          "base_uri": "https://localhost:8080/",
          "height": 1000
        },
        "id": "6U8Nzgu7i8dH",
        "outputId": "2e917f2e-d6a1-4667-cb26-08ef18636cf8"
      },
      "execution_count": null,
      "outputs": [
        {
          "output_type": "stream",
          "name": "stdout",
          "text": [
            "\n",
            "\n",
            "\u001b[1mPredictions for label: [Sex] value: [0]\u001b[0;0m\n",
            "\n",
            "=======================================\n"
          ]
        },
        {
          "output_type": "display_data",
          "data": {
            "text/plain": [
              "<PIL.Image.Image image mode=L size=64x64 at 0x7F8D8264C100>"
            ],
            "image/png": "[encoded data removed]"
          },
          "metadata": {}
        },
        {
          "output_type": "stream",
          "name": "stdout",
          "text": [
            "\n",
            "LABELS    VALUES    PREDICTIONS\n",
            "Sex       \u001b[1m0         \u001b[92m0\u001b[0;0m\n",
            "Hair      \u001b[1m0         \u001b[92m0\u001b[0;0m\n",
            "Glasses   \u001b[1m0         \u001b[92m0\u001b[0;0m\n",
            "Hat       \u001b[1m0         \u001b[92m0\u001b[0;0m\n",
            "Beard     \u001b[1m1         \u001b[91m0\u001b[0;0m\n",
            "\n",
            "=======================================\n"
          ]
        },
        {
          "output_type": "display_data",
          "data": {
            "text/plain": [
              "<PIL.Image.Image image mode=L size=64x64 at 0x7F8D8264C490>"
            ],
            "image/png": "[encoded data removed]"
          },
          "metadata": {}
        },
        {
          "output_type": "stream",
          "name": "stdout",
          "text": [
            "\n",
            "LABELS    VALUES    PREDICTIONS\n",
            "Sex       \u001b[1m0         \u001b[92m0\u001b[0;0m\n",
            "Hair      \u001b[1m1         \u001b[92m1\u001b[0;0m\n",
            "Glasses   \u001b[1m1         \u001b[92m1\u001b[0;0m\n",
            "Hat       \u001b[1m0         \u001b[92m0\u001b[0;0m\n",
            "Beard     \u001b[1m1         \u001b[92m1\u001b[0;0m\n",
            "\n",
            "=======================================\n"
          ]
        },
        {
          "output_type": "display_data",
          "data": {
            "text/plain": [
              "<PIL.Image.Image image mode=L size=64x64 at 0x7F8D826280D0>"
            ],
            "image/png": "[encoded data removed]"
          },
          "metadata": {}
        },
        {
          "output_type": "stream",
          "name": "stdout",
          "text": [
            "\n",
            "LABELS    VALUES    PREDICTIONS\n",
            "Sex       \u001b[1m0         \u001b[91m1\u001b[0;0m\n",
            "Hair      \u001b[1m0         \u001b[92m0\u001b[0;0m\n",
            "Glasses   \u001b[1m0         \u001b[92m0\u001b[0;0m\n",
            "Hat       \u001b[1m0         \u001b[92m0\u001b[0;0m\n",
            "Beard     \u001b[1m1         \u001b[91m0\u001b[0;0m\n",
            "\n",
            "=======================================\n"
          ]
        },
        {
          "output_type": "display_data",
          "data": {
            "text/plain": [
              "<PIL.Image.Image image mode=L size=64x64 at 0x7F8D82627100>"
            ],
            "image/png": "[encoded data removed]"
          },
          "metadata": {}
        },
        {
          "output_type": "stream",
          "name": "stdout",
          "text": [
            "\n",
            "LABELS    VALUES    PREDICTIONS\n",
            "Sex       \u001b[1m0         \u001b[92m0\u001b[0;0m\n",
            "Hair      \u001b[1m0         \u001b[92m0\u001b[0;0m\n",
            "Glasses   \u001b[1m0         \u001b[92m0\u001b[0;0m\n",
            "Hat       \u001b[1m0         \u001b[92m0\u001b[0;0m\n",
            "Beard     \u001b[1m0         \u001b[92m0\u001b[0;0m\n",
            "\n",
            "=======================================\n"
          ]
        },
        {
          "output_type": "display_data",
          "data": {
            "text/plain": [
              "<PIL.Image.Image image mode=L size=64x64 at 0x7F8D82628100>"
            ],
            "image/png": "[encoded data removed]"
          },
          "metadata": {}
        },
        {
          "output_type": "stream",
          "name": "stdout",
          "text": [
            "\n",
            "LABELS    VALUES    PREDICTIONS\n",
            "Sex       \u001b[1m0         \u001b[92m0\u001b[0;0m\n",
            "Hair      \u001b[1m0         \u001b[92m0\u001b[0;0m\n",
            "Glasses   \u001b[1m0         \u001b[92m0\u001b[0;0m\n",
            "Hat       \u001b[1m0         \u001b[92m0\u001b[0;0m\n",
            "Beard     \u001b[1m0         \u001b[92m0\u001b[0;0m\n",
            "\n",
            "\n",
            "\u001b[1mPredictions for label: [Sex] value [1]\u001b[0;0m\n",
            "\n",
            "=======================================\n"
          ]
        },
        {
          "output_type": "display_data",
          "data": {
            "text/plain": [
              "<PIL.Image.Image image mode=L size=64x64 at 0x7F8D826AF1F0>"
            ],
            "image/png": "[encoded data removed]"
          },
          "metadata": {}
        },
        {
          "output_type": "stream",
          "name": "stdout",
          "text": [
            "\n",
            "LABELS    VALUES    PREDICTIONS\n",
            "Sex       \u001b[1m1         \u001b[92m1\u001b[0;0m\n",
            "Hair      \u001b[1m0         \u001b[92m0\u001b[0;0m\n",
            "Glasses   \u001b[1m0         \u001b[92m0\u001b[0;0m\n",
            "Hat       \u001b[1m0         \u001b[92m0\u001b[0;0m\n",
            "Beard     \u001b[1m0         \u001b[92m0\u001b[0;0m\n",
            "\n",
            "=======================================\n"
          ]
        },
        {
          "output_type": "display_data",
          "data": {
            "text/plain": [
              "<PIL.Image.Image image mode=L size=64x64 at 0x7F8D8264CDC0>"
            ],
            "image/png": "[encoded data removed]"
          },
          "metadata": {}
        },
        {
          "output_type": "stream",
          "name": "stdout",
          "text": [
            "\n",
            "LABELS    VALUES    PREDICTIONS\n",
            "Sex       \u001b[1m1         \u001b[92m1\u001b[0;0m\n",
            "Hair      \u001b[1m1         \u001b[92m1\u001b[0;0m\n",
            "Glasses   \u001b[1m0         \u001b[92m0\u001b[0;0m\n",
            "Hat       \u001b[1m0         \u001b[92m0\u001b[0;0m\n",
            "Beard     \u001b[1m0         \u001b[92m0\u001b[0;0m\n",
            "\n",
            "=======================================\n"
          ]
        },
        {
          "output_type": "display_data",
          "data": {
            "text/plain": [
              "<PIL.Image.Image image mode=L size=64x64 at 0x7F8D8264C160>"
            ],
            "image/png": "[encoded data removed]"
          },
          "metadata": {}
        },
        {
          "output_type": "stream",
          "name": "stdout",
          "text": [
            "\n",
            "LABELS    VALUES    PREDICTIONS\n",
            "Sex       \u001b[1m1         \u001b[92m1\u001b[0;0m\n",
            "Hair      \u001b[1m0         \u001b[92m0\u001b[0;0m\n",
            "Glasses   \u001b[1m0         \u001b[92m0\u001b[0;0m\n",
            "Hat       \u001b[1m0         \u001b[92m0\u001b[0;0m\n",
            "Beard     \u001b[1m0         \u001b[92m0\u001b[0;0m\n",
            "\n",
            "=======================================\n"
          ]
        },
        {
          "output_type": "display_data",
          "data": {
            "text/plain": [
              "<PIL.Image.Image image mode=L size=64x64 at 0x7F8D8264C220>"
            ],
            "image/png": "[encoded data removed]"
          },
          "metadata": {}
        },
        {
          "output_type": "stream",
          "name": "stdout",
          "text": [
            "\n",
            "LABELS    VALUES    PREDICTIONS\n",
            "Sex       \u001b[1m1         \u001b[91m0\u001b[0;0m\n",
            "Hair      \u001b[1m0         \u001b[92m0\u001b[0;0m\n",
            "Glasses   \u001b[1m0         \u001b[92m0\u001b[0;0m\n",
            "Hat       \u001b[1m0         \u001b[92m0\u001b[0;0m\n",
            "Beard     \u001b[1m0         \u001b[91m1\u001b[0;0m\n",
            "\n",
            "=======================================\n"
          ]
        },
        {
          "output_type": "display_data",
          "data": {
            "text/plain": [
              "<PIL.Image.Image image mode=L size=64x64 at 0x7F8D8264CB80>"
            ],
            "image/png": "[encoded data removed]"
          },
          "metadata": {}
        },
        {
          "output_type": "stream",
          "name": "stdout",
          "text": [
            "\n",
            "LABELS    VALUES    PREDICTIONS\n",
            "Sex       \u001b[1m1         \u001b[92m1\u001b[0;0m\n",
            "Hair      \u001b[1m1         \u001b[92m1\u001b[0;0m\n",
            "Glasses   \u001b[1m0         \u001b[92m0\u001b[0;0m\n",
            "Hat       \u001b[1m0         \u001b[92m0\u001b[0;0m\n",
            "Beard     \u001b[1m0         \u001b[92m0\u001b[0;0m\n",
            "\n",
            "\n",
            "\u001b[1mPredictions for label: [Hair] value: [0]\u001b[0;0m\n",
            "\n",
            "=======================================\n"
          ]
        },
        {
          "output_type": "display_data",
          "data": {
            "text/plain": [
              "<PIL.Image.Image image mode=L size=64x64 at 0x7F8D826AF970>"
            ],
            "image/png": "[encoded data removed]"
          },
          "metadata": {}
        },
        {
          "output_type": "stream",
          "name": "stdout",
          "text": [
            "\n",
            "LABELS    VALUES    PREDICTIONS\n",
            "Sex       \u001b[1m0         \u001b[92m0\u001b[0;0m\n",
            "Hair      \u001b[1m0         \u001b[92m0\u001b[0;0m\n",
            "Glasses   \u001b[1m0         \u001b[92m0\u001b[0;0m\n",
            "Hat       \u001b[1m0         \u001b[92m0\u001b[0;0m\n",
            "Beard     \u001b[1m0         \u001b[92m0\u001b[0;0m\n",
            "\n",
            "=======================================\n"
          ]
        },
        {
          "output_type": "display_data",
          "data": {
            "text/plain": [
              "<PIL.Image.Image image mode=L size=64x64 at 0x7F8D8264C040>"
            ],
            "image/png": "[encoded data removed]"
          },
          "metadata": {}
        },
        {
          "output_type": "stream",
          "name": "stdout",
          "text": [
            "\n",
            "LABELS    VALUES    PREDICTIONS\n",
            "Sex       \u001b[1m1         \u001b[92m1\u001b[0;0m\n",
            "Hair      \u001b[1m0         \u001b[92m0\u001b[0;0m\n",
            "Glasses   \u001b[1m0         \u001b[92m0\u001b[0;0m\n",
            "Hat       \u001b[1m0         \u001b[92m0\u001b[0;0m\n",
            "Beard     \u001b[1m0         \u001b[92m0\u001b[0;0m\n",
            "\n",
            "=======================================\n"
          ]
        },
        {
          "output_type": "display_data",
          "data": {
            "text/plain": [
              "<PIL.Image.Image image mode=L size=64x64 at 0x7F8D8264CA00>"
            ],
            "image/png": "[encoded data removed]"
          },
          "metadata": {}
        },
        {
          "output_type": "stream",
          "name": "stdout",
          "text": [
            "\n",
            "LABELS    VALUES    PREDICTIONS\n",
            "Sex       \u001b[1m0         \u001b[92m0\u001b[0;0m\n",
            "Hair      \u001b[1m0         \u001b[92m0\u001b[0;0m\n",
            "Glasses   \u001b[1m0         \u001b[92m0\u001b[0;0m\n",
            "Hat       \u001b[1m0         \u001b[92m0\u001b[0;0m\n",
            "Beard     \u001b[1m0         \u001b[92m0\u001b[0;0m\n",
            "\n",
            "=======================================\n"
          ]
        },
        {
          "output_type": "display_data",
          "data": {
            "text/plain": [
              "<PIL.Image.Image image mode=L size=64x64 at 0x7F8D8264CBB0>"
            ],
            "image/png": "[encoded data removed]"
          },
          "metadata": {}
        },
        {
          "output_type": "stream",
          "name": "stdout",
          "text": [
            "\n",
            "LABELS    VALUES    PREDICTIONS\n",
            "Sex       \u001b[1m0         \u001b[92m0\u001b[0;0m\n",
            "Hair      \u001b[1m0         \u001b[92m0\u001b[0;0m\n",
            "Glasses   \u001b[1m0         \u001b[92m0\u001b[0;0m\n",
            "Hat       \u001b[1m0         \u001b[92m0\u001b[0;0m\n",
            "Beard     \u001b[1m0         \u001b[92m0\u001b[0;0m\n",
            "\n",
            "=======================================\n"
          ]
        },
        {
          "output_type": "display_data",
          "data": {
            "text/plain": [
              "<PIL.Image.Image image mode=L size=64x64 at 0x7F8D8264C0A0>"
            ],
            "image/png": "[encoded data removed]"
          },
          "metadata": {}
        },
        {
          "output_type": "stream",
          "name": "stdout",
          "text": [
            "\n",
            "LABELS    VALUES    PREDICTIONS\n",
            "Sex       \u001b[1m0         \u001b[92m0\u001b[0;0m\n",
            "Hair      \u001b[1m0         \u001b[92m0\u001b[0;0m\n",
            "Glasses   \u001b[1m0         \u001b[92m0\u001b[0;0m\n",
            "Hat       \u001b[1m0         \u001b[92m0\u001b[0;0m\n",
            "Beard     \u001b[1m1         \u001b[92m1\u001b[0;0m\n",
            "\n",
            "\n",
            "\u001b[1mPredictions for label: [Hair] value [1]\u001b[0;0m\n",
            "\n",
            "=======================================\n"
          ]
        },
        {
          "output_type": "display_data",
          "data": {
            "text/plain": [
              "<PIL.Image.Image image mode=L size=64x64 at 0x7F8D8264CBB0>"
            ],
            "image/png": "[encoded data removed]"
          },
          "metadata": {}
        },
        {
          "output_type": "stream",
          "name": "stdout",
          "text": [
            "\n",
            "LABELS    VALUES    PREDICTIONS\n",
            "Sex       \u001b[1m1         \u001b[92m1\u001b[0;0m\n",
            "Hair      \u001b[1m1         \u001b[92m1\u001b[0;0m\n",
            "Glasses   \u001b[1m0         \u001b[92m0\u001b[0;0m\n",
            "Hat       \u001b[1m0         \u001b[92m0\u001b[0;0m\n",
            "Beard     \u001b[1m0         \u001b[92m0\u001b[0;0m\n",
            "\n",
            "=======================================\n"
          ]
        },
        {
          "output_type": "display_data",
          "data": {
            "text/plain": [
              "<PIL.Image.Image image mode=L size=64x64 at 0x7F8D8271B190>"
            ],
            "image/png": "[encoded data removed]"
          },
          "metadata": {}
        },
        {
          "output_type": "stream",
          "name": "stdout",
          "text": [
            "\n",
            "LABELS    VALUES    PREDICTIONS\n",
            "Sex       \u001b[1m1         \u001b[92m1\u001b[0;0m\n",
            "Hair      \u001b[1m1         \u001b[92m1\u001b[0;0m\n",
            "Glasses   \u001b[1m0         \u001b[92m0\u001b[0;0m\n",
            "Hat       \u001b[1m0         \u001b[92m0\u001b[0;0m\n",
            "Beard     \u001b[1m0         \u001b[92m0\u001b[0;0m\n",
            "\n",
            "=======================================\n"
          ]
        },
        {
          "output_type": "display_data",
          "data": {
            "text/plain": [
              "<PIL.Image.Image image mode=L size=64x64 at 0x7F8D8264C040>"
            ],
            "image/png": "[encoded data removed]"
          },
          "metadata": {}
        },
        {
          "output_type": "stream",
          "name": "stdout",
          "text": [
            "\n",
            "LABELS    VALUES    PREDICTIONS\n",
            "Sex       \u001b[1m1         \u001b[92m1\u001b[0;0m\n",
            "Hair      \u001b[1m1         \u001b[92m1\u001b[0;0m\n",
            "Glasses   \u001b[1m0         \u001b[92m0\u001b[0;0m\n",
            "Hat       \u001b[1m0         \u001b[92m0\u001b[0;0m\n",
            "Beard     \u001b[1m0         \u001b[92m0\u001b[0;0m\n",
            "\n",
            "=======================================\n"
          ]
        },
        {
          "output_type": "display_data",
          "data": {
            "text/plain": [
              "<PIL.Image.Image image mode=L size=64x64 at 0x7F8D826015E0>"
            ],
            "image/png": "[encoded data removed]"
          },
          "metadata": {}
        },
        {
          "output_type": "stream",
          "name": "stdout",
          "text": [
            "\n",
            "LABELS    VALUES    PREDICTIONS\n",
            "Sex       \u001b[1m1         \u001b[92m1\u001b[0;0m\n",
            "Hair      \u001b[1m1         \u001b[92m1\u001b[0;0m\n",
            "Glasses   \u001b[1m0         \u001b[92m0\u001b[0;0m\n",
            "Hat       \u001b[1m0         \u001b[92m0\u001b[0;0m\n",
            "Beard     \u001b[1m0         \u001b[92m0\u001b[0;0m\n",
            "\n",
            "=======================================\n"
          ]
        },
        {
          "output_type": "display_data",
          "data": {
            "text/plain": [
              "<PIL.Image.Image image mode=L size=64x64 at 0x7F8D82601CD0>"
            ],
            "image/png": "[encoded data removed]"
          },
          "metadata": {}
        },
        {
          "output_type": "stream",
          "name": "stdout",
          "text": [
            "\n",
            "LABELS    VALUES    PREDICTIONS\n",
            "Sex       \u001b[1m1         \u001b[92m1\u001b[0;0m\n",
            "Hair      \u001b[1m1         \u001b[92m1\u001b[0;0m\n",
            "Glasses   \u001b[1m0         \u001b[92m0\u001b[0;0m\n",
            "Hat       \u001b[1m0         \u001b[92m0\u001b[0;0m\n",
            "Beard     \u001b[1m0         \u001b[92m0\u001b[0;0m\n",
            "\n",
            "\n",
            "\u001b[1mPredictions for label: [Glasses] value: [0]\u001b[0;0m\n",
            "\n",
            "=======================================\n"
          ]
        },
        {
          "output_type": "display_data",
          "data": {
            "text/plain": [
              "<PIL.Image.Image image mode=L size=64x64 at 0x7F8D90A48F40>"
            ],
            "image/png": "[encoded data removed]"
          },
          "metadata": {}
        },
        {
          "output_type": "stream",
          "name": "stdout",
          "text": [
            "\n",
            "LABELS    VALUES    PREDICTIONS\n",
            "Sex       \u001b[1m0         \u001b[92m0\u001b[0;0m\n",
            "Hair      \u001b[1m0         \u001b[92m0\u001b[0;0m\n",
            "Glasses   \u001b[1m0         \u001b[92m0\u001b[0;0m\n",
            "Hat       \u001b[1m0         \u001b[92m0\u001b[0;0m\n",
            "Beard     \u001b[1m0         \u001b[92m0\u001b[0;0m\n",
            "\n",
            "=======================================\n"
          ]
        },
        {
          "output_type": "display_data",
          "data": {
            "text/plain": [
              "<PIL.Image.Image image mode=L size=64x64 at 0x7F8D8264CDC0>"
            ],
            "image/png": "[encoded data removed]"
          },
          "metadata": {}
        },
        {
          "output_type": "stream",
          "name": "stdout",
          "text": [
            "\n",
            "LABELS    VALUES    PREDICTIONS\n",
            "Sex       \u001b[1m1         \u001b[92m1\u001b[0;0m\n",
            "Hair      \u001b[1m0         \u001b[92m0\u001b[0;0m\n",
            "Glasses   \u001b[1m0         \u001b[92m0\u001b[0;0m\n",
            "Hat       \u001b[1m0         \u001b[92m0\u001b[0;0m\n",
            "Beard     \u001b[1m0         \u001b[92m0\u001b[0;0m\n",
            "\n",
            "=======================================\n"
          ]
        },
        {
          "output_type": "display_data",
          "data": {
            "text/plain": [
              "<PIL.Image.Image image mode=L size=64x64 at 0x7F8D8264C160>"
            ],
            "image/png": "[encoded data removed]"
          },
          "metadata": {}
        },
        {
          "output_type": "stream",
          "name": "stdout",
          "text": [
            "\n",
            "LABELS    VALUES    PREDICTIONS\n",
            "Sex       \u001b[1m1         \u001b[92m1\u001b[0;0m\n",
            "Hair      \u001b[1m1         \u001b[92m1\u001b[0;0m\n",
            "Glasses   \u001b[1m0         \u001b[92m0\u001b[0;0m\n",
            "Hat       \u001b[1m0         \u001b[92m0\u001b[0;0m\n",
            "Beard     \u001b[1m0         \u001b[92m0\u001b[0;0m\n",
            "\n",
            "=======================================\n"
          ]
        },
        {
          "output_type": "display_data",
          "data": {
            "text/plain": [
              "<PIL.Image.Image image mode=L size=64x64 at 0x7F8D82601BB0>"
            ],
            "image/png": "[encoded data removed]"
          },
          "metadata": {}
        },
        {
          "output_type": "stream",
          "name": "stdout",
          "text": [
            "\n",
            "LABELS    VALUES    PREDICTIONS\n",
            "Sex       \u001b[1m0         \u001b[92m0\u001b[0;0m\n",
            "Hair      \u001b[1m0         \u001b[92m0\u001b[0;0m\n",
            "Glasses   \u001b[1m0         \u001b[92m0\u001b[0;0m\n",
            "Hat       \u001b[1m0         \u001b[92m0\u001b[0;0m\n",
            "Beard     \u001b[1m0         \u001b[92m0\u001b[0;0m\n",
            "\n",
            "=======================================\n"
          ]
        },
        {
          "output_type": "display_data",
          "data": {
            "text/plain": [
              "<PIL.Image.Image image mode=L size=64x64 at 0x7F8D8264C7C0>"
            ],
            "image/png": "[encoded data removed]"
          },
          "metadata": {}
        },
        {
          "output_type": "stream",
          "name": "stdout",
          "text": [
            "\n",
            "LABELS    VALUES    PREDICTIONS\n",
            "Sex       \u001b[1m0         \u001b[92m0\u001b[0;0m\n",
            "Hair      \u001b[1m0         \u001b[92m0\u001b[0;0m\n",
            "Glasses   \u001b[1m0         \u001b[92m0\u001b[0;0m\n",
            "Hat       \u001b[1m0         \u001b[92m0\u001b[0;0m\n",
            "Beard     \u001b[1m0         \u001b[91m1\u001b[0;0m\n",
            "\n",
            "\n",
            "\u001b[1mPredictions for label: [Glasses] value [1]\u001b[0;0m\n",
            "\n",
            "=======================================\n"
          ]
        },
        {
          "output_type": "display_data",
          "data": {
            "text/plain": [
              "<PIL.Image.Image image mode=L size=64x64 at 0x7F8D8264CA90>"
            ],
            "image/png": "[encoded data removed]"
          },
          "metadata": {}
        },
        {
          "output_type": "stream",
          "name": "stdout",
          "text": [
            "\n",
            "LABELS    VALUES    PREDICTIONS\n",
            "Sex       \u001b[1m1         \u001b[92m1\u001b[0;0m\n",
            "Hair      \u001b[1m1         \u001b[92m1\u001b[0;0m\n",
            "Glasses   \u001b[1m1         \u001b[92m1\u001b[0;0m\n",
            "Hat       \u001b[1m0         \u001b[92m0\u001b[0;0m\n",
            "Beard     \u001b[1m0         \u001b[92m0\u001b[0;0m\n",
            "\n",
            "=======================================\n"
          ]
        },
        {
          "output_type": "display_data",
          "data": {
            "text/plain": [
              "<PIL.Image.Image image mode=L size=64x64 at 0x7F8D826015B0>"
            ],
            "image/png": "[encoded data removed]"
          },
          "metadata": {}
        },
        {
          "output_type": "stream",
          "name": "stdout",
          "text": [
            "\n",
            "LABELS    VALUES    PREDICTIONS\n",
            "Sex       \u001b[1m0         \u001b[92m0\u001b[0;0m\n",
            "Hair      \u001b[1m0         \u001b[92m0\u001b[0;0m\n",
            "Glasses   \u001b[1m1         \u001b[92m1\u001b[0;0m\n",
            "Hat       \u001b[1m0         \u001b[92m0\u001b[0;0m\n",
            "Beard     \u001b[1m0         \u001b[92m0\u001b[0;0m\n",
            "\n",
            "=======================================\n"
          ]
        },
        {
          "output_type": "display_data",
          "data": {
            "text/plain": [
              "<PIL.Image.Image image mode=L size=64x64 at 0x7F8D8264CDC0>"
            ],
            "image/png": "[encoded data removed]"
          },
          "metadata": {}
        },
        {
          "output_type": "stream",
          "name": "stdout",
          "text": [
            "\n",
            "LABELS    VALUES    PREDICTIONS\n",
            "Sex       \u001b[1m1         \u001b[92m1\u001b[0;0m\n",
            "Hair      \u001b[1m0         \u001b[92m0\u001b[0;0m\n",
            "Glasses   \u001b[1m1         \u001b[92m1\u001b[0;0m\n",
            "Hat       \u001b[1m0         \u001b[92m0\u001b[0;0m\n",
            "Beard     \u001b[1m0         \u001b[92m0\u001b[0;0m\n",
            "\n",
            "=======================================\n"
          ]
        },
        {
          "output_type": "display_data",
          "data": {
            "text/plain": [
              "<PIL.Image.Image image mode=L size=64x64 at 0x7F8D82601DC0>"
            ],
            "image/png": "[encoded data removed]"
          },
          "metadata": {}
        },
        {
          "output_type": "stream",
          "name": "stdout",
          "text": [
            "\n",
            "LABELS    VALUES    PREDICTIONS\n",
            "Sex       \u001b[1m0         \u001b[92m0\u001b[0;0m\n",
            "Hair      \u001b[1m0         \u001b[92m0\u001b[0;0m\n",
            "Glasses   \u001b[1m1         \u001b[92m1\u001b[0;0m\n",
            "Hat       \u001b[1m0         \u001b[92m0\u001b[0;0m\n",
            "Beard     \u001b[1m0         \u001b[92m0\u001b[0;0m\n",
            "\n",
            "=======================================\n"
          ]
        },
        {
          "output_type": "display_data",
          "data": {
            "text/plain": [
              "<PIL.Image.Image image mode=L size=64x64 at 0x7F8D8264CCA0>"
            ],
            "image/png": "[encoded data removed]"
          },
          "metadata": {}
        },
        {
          "output_type": "stream",
          "name": "stdout",
          "text": [
            "\n",
            "LABELS    VALUES    PREDICTIONS\n",
            "Sex       \u001b[1m1         \u001b[92m1\u001b[0;0m\n",
            "Hair      \u001b[1m1         \u001b[92m1\u001b[0;0m\n",
            "Glasses   \u001b[1m1         \u001b[92m1\u001b[0;0m\n",
            "Hat       \u001b[1m0         \u001b[92m0\u001b[0;0m\n",
            "Beard     \u001b[1m0         \u001b[92m0\u001b[0;0m\n",
            "\n",
            "\n",
            "\u001b[1mPredictions for label: [Hat] value: [0]\u001b[0;0m\n",
            "\n",
            "=======================================\n"
          ]
        },
        {
          "output_type": "display_data",
          "data": {
            "text/plain": [
              "<PIL.Image.Image image mode=L size=64x64 at 0x7F8D8264CE20>"
            ],
            "image/png": "[encoded data removed]"
          },
          "metadata": {}
        },
        {
          "output_type": "stream",
          "name": "stdout",
          "text": [
            "\n",
            "LABELS    VALUES    PREDICTIONS\n",
            "Sex       \u001b[1m1         \u001b[92m1\u001b[0;0m\n",
            "Hair      \u001b[1m1         \u001b[92m1\u001b[0;0m\n",
            "Glasses   \u001b[1m0         \u001b[92m0\u001b[0;0m\n",
            "Hat       \u001b[1m0         \u001b[92m0\u001b[0;0m\n",
            "Beard     \u001b[1m0         \u001b[92m0\u001b[0;0m\n",
            "\n",
            "=======================================\n"
          ]
        },
        {
          "output_type": "display_data",
          "data": {
            "text/plain": [
              "<PIL.Image.Image image mode=L size=64x64 at 0x7F8D8264CB50>"
            ],
            "image/png": "[encoded data removed]"
          },
          "metadata": {}
        },
        {
          "output_type": "stream",
          "name": "stdout",
          "text": [
            "\n",
            "LABELS    VALUES    PREDICTIONS\n",
            "Sex       \u001b[1m0         \u001b[92m0\u001b[0;0m\n",
            "Hair      \u001b[1m0         \u001b[92m0\u001b[0;0m\n",
            "Glasses   \u001b[1m0         \u001b[92m0\u001b[0;0m\n",
            "Hat       \u001b[1m0         \u001b[92m0\u001b[0;0m\n",
            "Beard     \u001b[1m0         \u001b[92m0\u001b[0;0m\n",
            "\n",
            "=======================================\n"
          ]
        },
        {
          "output_type": "display_data",
          "data": {
            "text/plain": [
              "<PIL.Image.Image image mode=L size=64x64 at 0x7F8D8264CAF0>"
            ],
            "image/png": "[encoded data removed]"
          },
          "metadata": {}
        },
        {
          "output_type": "stream",
          "name": "stdout",
          "text": [
            "\n",
            "LABELS    VALUES    PREDICTIONS\n",
            "Sex       \u001b[1m0         \u001b[92m0\u001b[0;0m\n",
            "Hair      \u001b[1m0         \u001b[92m0\u001b[0;0m\n",
            "Glasses   \u001b[1m0         \u001b[92m0\u001b[0;0m\n",
            "Hat       \u001b[1m0         \u001b[92m0\u001b[0;0m\n",
            "Beard     \u001b[1m0         \u001b[92m0\u001b[0;0m\n",
            "\n",
            "=======================================\n"
          ]
        },
        {
          "output_type": "display_data",
          "data": {
            "text/plain": [
              "<PIL.Image.Image image mode=L size=64x64 at 0x7F8D90A48F40>"
            ],
            "image/png": "[encoded data removed]"
          },
          "metadata": {}
        },
        {
          "output_type": "stream",
          "name": "stdout",
          "text": [
            "\n",
            "LABELS    VALUES    PREDICTIONS\n",
            "Sex       \u001b[1m0         \u001b[92m0\u001b[0;0m\n",
            "Hair      \u001b[1m0         \u001b[92m0\u001b[0;0m\n",
            "Glasses   \u001b[1m0         \u001b[92m0\u001b[0;0m\n",
            "Hat       \u001b[1m0         \u001b[92m0\u001b[0;0m\n",
            "Beard     \u001b[1m0         \u001b[92m0\u001b[0;0m\n",
            "\n",
            "=======================================\n"
          ]
        },
        {
          "output_type": "display_data",
          "data": {
            "text/plain": [
              "<PIL.Image.Image image mode=L size=64x64 at 0x7F8D8264CE20>"
            ],
            "image/png": "[encoded data removed]"
          },
          "metadata": {}
        },
        {
          "output_type": "stream",
          "name": "stdout",
          "text": [
            "\n",
            "LABELS    VALUES    PREDICTIONS\n",
            "Sex       \u001b[1m0         \u001b[92m0\u001b[0;0m\n",
            "Hair      \u001b[1m0         \u001b[92m0\u001b[0;0m\n",
            "Glasses   \u001b[1m0         \u001b[92m0\u001b[0;0m\n",
            "Hat       \u001b[1m0         \u001b[92m0\u001b[0;0m\n",
            "Beard     \u001b[1m0         \u001b[92m0\u001b[0;0m\n",
            "\n",
            "\n",
            "\u001b[1mPredictions for label: [Hat] value [1]\u001b[0;0m\n",
            "\n",
            "=======================================\n"
          ]
        },
        {
          "output_type": "display_data",
          "data": {
            "text/plain": [
              "<PIL.Image.Image image mode=L size=64x64 at 0x7F8D826AF970>"
            ],
            "image/png": "[encoded data removed]"
          },
          "metadata": {}
        },
        {
          "output_type": "stream",
          "name": "stdout",
          "text": [
            "\n",
            "LABELS    VALUES    PREDICTIONS\n",
            "Sex       \u001b[1m0         \u001b[91m1\u001b[0;0m\n",
            "Hair      \u001b[1m0         \u001b[92m0\u001b[0;0m\n",
            "Glasses   \u001b[1m0         \u001b[92m0\u001b[0;0m\n",
            "Hat       \u001b[1m1         \u001b[91m0\u001b[0;0m\n",
            "Beard     \u001b[1m0         \u001b[92m0\u001b[0;0m\n",
            "\n",
            "=======================================\n"
          ]
        },
        {
          "output_type": "display_data",
          "data": {
            "text/plain": [
              "<PIL.Image.Image image mode=L size=64x64 at 0x7F8D8264CE20>"
            ],
            "image/png": "[encoded data removed]"
          },
          "metadata": {}
        },
        {
          "output_type": "stream",
          "name": "stdout",
          "text": [
            "\n",
            "LABELS    VALUES    PREDICTIONS\n",
            "Sex       \u001b[1m0         \u001b[92m0\u001b[0;0m\n",
            "Hair      \u001b[1m0         \u001b[92m0\u001b[0;0m\n",
            "Glasses   \u001b[1m0         \u001b[92m0\u001b[0;0m\n",
            "Hat       \u001b[1m1         \u001b[92m1\u001b[0;0m\n",
            "Beard     \u001b[1m1         \u001b[92m1\u001b[0;0m\n",
            "\n",
            "=======================================\n"
          ]
        },
        {
          "output_type": "display_data",
          "data": {
            "text/plain": [
              "<PIL.Image.Image image mode=L size=64x64 at 0x7F8D8264CD60>"
            ],
            "image/png": "[encoded data removed]"
          },
          "metadata": {}
        },
        {
          "output_type": "stream",
          "name": "stdout",
          "text": [
            "\n",
            "LABELS    VALUES    PREDICTIONS\n",
            "Sex       \u001b[1m0         \u001b[92m0\u001b[0;0m\n",
            "Hair      \u001b[1m0         \u001b[92m0\u001b[0;0m\n",
            "Glasses   \u001b[1m0         \u001b[92m0\u001b[0;0m\n",
            "Hat       \u001b[1m1         \u001b[91m0\u001b[0;0m\n",
            "Beard     \u001b[1m1         \u001b[92m1\u001b[0;0m\n",
            "\n",
            "=======================================\n"
          ]
        },
        {
          "output_type": "display_data",
          "data": {
            "text/plain": [
              "<PIL.Image.Image image mode=L size=64x64 at 0x7F8D8264CAF0>"
            ],
            "image/png": "[encoded data removed]"
          },
          "metadata": {}
        },
        {
          "output_type": "stream",
          "name": "stdout",
          "text": [
            "\n",
            "LABELS    VALUES    PREDICTIONS\n",
            "Sex       \u001b[1m1         \u001b[91m0\u001b[0;0m\n",
            "Hair      \u001b[1m0         \u001b[92m0\u001b[0;0m\n",
            "Glasses   \u001b[1m0         \u001b[92m0\u001b[0;0m\n",
            "Hat       \u001b[1m1         \u001b[91m0\u001b[0;0m\n",
            "Beard     \u001b[1m0         \u001b[92m0\u001b[0;0m\n",
            "\n",
            "=======================================\n"
          ]
        },
        {
          "output_type": "display_data",
          "data": {
            "text/plain": [
              "<PIL.Image.Image image mode=L size=64x64 at 0x7F8D8264C580>"
            ],
            "image/png": "[encoded data removed]"
          },
          "metadata": {}
        },
        {
          "output_type": "stream",
          "name": "stdout",
          "text": [
            "\n",
            "LABELS    VALUES    PREDICTIONS\n",
            "Sex       \u001b[1m0         \u001b[92m0\u001b[0;0m\n",
            "Hair      \u001b[1m0         \u001b[92m0\u001b[0;0m\n",
            "Glasses   \u001b[1m0         \u001b[92m0\u001b[0;0m\n",
            "Hat       \u001b[1m1         \u001b[92m1\u001b[0;0m\n",
            "Beard     \u001b[1m1         \u001b[92m1\u001b[0;0m\n",
            "\n",
            "\n",
            "\u001b[1mPredictions for label: [Beard] value: [0]\u001b[0;0m\n",
            "\n",
            "=======================================\n"
          ]
        },
        {
          "output_type": "display_data",
          "data": {
            "text/plain": [
              "<PIL.Image.Image image mode=L size=64x64 at 0x7F8D8264CFD0>"
            ],
            "image/png": "[encoded data removed]"
          },
          "metadata": {}
        },
        {
          "output_type": "stream",
          "name": "stdout",
          "text": [
            "\n",
            "LABELS    VALUES    PREDICTIONS\n",
            "Sex       \u001b[1m0         \u001b[92m0\u001b[0;0m\n",
            "Hair      \u001b[1m0         \u001b[92m0\u001b[0;0m\n",
            "Glasses   \u001b[1m1         \u001b[91m0\u001b[0;0m\n",
            "Hat       \u001b[1m0         \u001b[92m0\u001b[0;0m\n",
            "Beard     \u001b[1m0         \u001b[92m0\u001b[0;0m\n",
            "\n",
            "=======================================\n"
          ]
        },
        {
          "output_type": "display_data",
          "data": {
            "text/plain": [
              "<PIL.Image.Image image mode=L size=64x64 at 0x7F8D826015E0>"
            ],
            "image/png": "[encoded data removed]"
          },
          "metadata": {}
        },
        {
          "output_type": "stream",
          "name": "stdout",
          "text": [
            "\n",
            "LABELS    VALUES    PREDICTIONS\n",
            "Sex       \u001b[1m1         \u001b[92m1\u001b[0;0m\n",
            "Hair      \u001b[1m0         \u001b[91m1\u001b[0;0m\n",
            "Glasses   \u001b[1m0         \u001b[92m0\u001b[0;0m\n",
            "Hat       \u001b[1m0         \u001b[92m0\u001b[0;0m\n",
            "Beard     \u001b[1m0         \u001b[92m0\u001b[0;0m\n",
            "\n",
            "=======================================\n"
          ]
        },
        {
          "output_type": "display_data",
          "data": {
            "text/plain": [
              "<PIL.Image.Image image mode=L size=64x64 at 0x7F8D8264C850>"
            ],
            "image/png": "[encoded data removed]"
          },
          "metadata": {}
        },
        {
          "output_type": "stream",
          "name": "stdout",
          "text": [
            "\n",
            "LABELS    VALUES    PREDICTIONS\n",
            "Sex       \u001b[1m1         \u001b[92m1\u001b[0;0m\n",
            "Hair      \u001b[1m1         \u001b[92m1\u001b[0;0m\n",
            "Glasses   \u001b[1m1         \u001b[92m1\u001b[0;0m\n",
            "Hat       \u001b[1m0         \u001b[92m0\u001b[0;0m\n",
            "Beard     \u001b[1m0         \u001b[92m0\u001b[0;0m\n",
            "\n",
            "=======================================\n"
          ]
        },
        {
          "output_type": "display_data",
          "data": {
            "text/plain": [
              "<PIL.Image.Image image mode=L size=64x64 at 0x7F8D82601DC0>"
            ],
            "image/png": "[encoded data removed]"
          },
          "metadata": {}
        },
        {
          "output_type": "stream",
          "name": "stdout",
          "text": [
            "\n",
            "LABELS    VALUES    PREDICTIONS\n",
            "Sex       \u001b[1m0         \u001b[92m0\u001b[0;0m\n",
            "Hair      \u001b[1m0         \u001b[92m0\u001b[0;0m\n",
            "Glasses   \u001b[1m0         \u001b[92m0\u001b[0;0m\n",
            "Hat       \u001b[1m0         \u001b[92m0\u001b[0;0m\n",
            "Beard     \u001b[1m0         \u001b[92m0\u001b[0;0m\n",
            "\n",
            "=======================================\n"
          ]
        },
        {
          "output_type": "display_data",
          "data": {
            "text/plain": [
              "<PIL.Image.Image image mode=L size=64x64 at 0x7F8D8264C3A0>"
            ],
            "image/png": "[encoded data removed]"
          },
          "metadata": {}
        },
        {
          "output_type": "stream",
          "name": "stdout",
          "text": [
            "\n",
            "LABELS    VALUES    PREDICTIONS\n",
            "Sex       \u001b[1m1         \u001b[92m1\u001b[0;0m\n",
            "Hair      \u001b[1m1         \u001b[92m1\u001b[0;0m\n",
            "Glasses   \u001b[1m0         \u001b[92m0\u001b[0;0m\n",
            "Hat       \u001b[1m0         \u001b[92m0\u001b[0;0m\n",
            "Beard     \u001b[1m0         \u001b[92m0\u001b[0;0m\n",
            "\n",
            "\n",
            "\u001b[1mPredictions for label: [Beard] value [1]\u001b[0;0m\n",
            "\n",
            "=======================================\n"
          ]
        },
        {
          "output_type": "display_data",
          "data": {
            "text/plain": [
              "<PIL.Image.Image image mode=L size=64x64 at 0x7F8D826AF760>"
            ],
            "image/png": "[encoded data removed]"
          },
          "metadata": {}
        },
        {
          "output_type": "stream",
          "name": "stdout",
          "text": [
            "\n",
            "LABELS    VALUES    PREDICTIONS\n",
            "Sex       \u001b[1m0         \u001b[92m0\u001b[0;0m\n",
            "Hair      \u001b[1m1         \u001b[92m1\u001b[0;0m\n",
            "Glasses   \u001b[1m0         \u001b[92m0\u001b[0;0m\n",
            "Hat       \u001b[1m0         \u001b[92m0\u001b[0;0m\n",
            "Beard     \u001b[1m1         \u001b[92m1\u001b[0;0m\n",
            "\n",
            "=======================================\n"
          ]
        },
        {
          "output_type": "display_data",
          "data": {
            "text/plain": [
              "<PIL.Image.Image image mode=L size=64x64 at 0x7F8D8264CFD0>"
            ],
            "image/png": "[encoded data removed]"
          },
          "metadata": {}
        },
        {
          "output_type": "stream",
          "name": "stdout",
          "text": [
            "\n",
            "LABELS    VALUES    PREDICTIONS\n",
            "Sex       \u001b[1m0         \u001b[92m0\u001b[0;0m\n",
            "Hair      \u001b[1m0         \u001b[92m0\u001b[0;0m\n",
            "Glasses   \u001b[1m0         \u001b[92m0\u001b[0;0m\n",
            "Hat       \u001b[1m0         \u001b[92m0\u001b[0;0m\n",
            "Beard     \u001b[1m1         \u001b[92m1\u001b[0;0m\n",
            "\n",
            "=======================================\n"
          ]
        },
        {
          "output_type": "display_data",
          "data": {
            "text/plain": [
              "<PIL.Image.Image image mode=L size=64x64 at 0x7F8D8264C4F0>"
            ],
            "image/png": "[encoded data removed]"
          },
          "metadata": {}
        },
        {
          "output_type": "stream",
          "name": "stdout",
          "text": [
            "\n",
            "LABELS    VALUES    PREDICTIONS\n",
            "Sex       \u001b[1m0         \u001b[92m0\u001b[0;0m\n",
            "Hair      \u001b[1m0         \u001b[92m0\u001b[0;0m\n",
            "Glasses   \u001b[1m0         \u001b[92m0\u001b[0;0m\n",
            "Hat       \u001b[1m0         \u001b[92m0\u001b[0;0m\n",
            "Beard     \u001b[1m1         \u001b[92m1\u001b[0;0m\n",
            "\n",
            "=======================================\n"
          ]
        },
        {
          "output_type": "display_data",
          "data": {
            "text/plain": [
              "<PIL.Image.Image image mode=L size=64x64 at 0x7F8D90C92AF0>"
            ],
            "image/png": "[encoded data removed]"
          },
          "metadata": {}
        },
        {
          "output_type": "stream",
          "name": "stdout",
          "text": [
            "\n",
            "LABELS    VALUES    PREDICTIONS\n",
            "Sex       \u001b[1m0         \u001b[92m0\u001b[0;0m\n",
            "Hair      \u001b[1m1         \u001b[92m1\u001b[0;0m\n",
            "Glasses   \u001b[1m1         \u001b[92m1\u001b[0;0m\n",
            "Hat       \u001b[1m0         \u001b[92m0\u001b[0;0m\n",
            "Beard     \u001b[1m1         \u001b[92m1\u001b[0;0m\n",
            "\n",
            "=======================================\n"
          ]
        },
        {
          "output_type": "display_data",
          "data": {
            "text/plain": [
              "<PIL.Image.Image image mode=L size=64x64 at 0x7F8D8264CEE0>"
            ],
            "image/png": "[encoded data removed]"
          },
          "metadata": {}
        },
        {
          "output_type": "stream",
          "name": "stdout",
          "text": [
            "\n",
            "LABELS    VALUES    PREDICTIONS\n",
            "Sex       \u001b[1m0         \u001b[92m0\u001b[0;0m\n",
            "Hair      \u001b[1m0         \u001b[92m0\u001b[0;0m\n",
            "Glasses   \u001b[1m0         \u001b[92m0\u001b[0;0m\n",
            "Hat       \u001b[1m0         \u001b[92m0\u001b[0;0m\n",
            "Beard     \u001b[1m1         \u001b[92m1\u001b[0;0m\n"
          ]
        }
      ]
    },
    {
      "cell_type": "code",
      "source": [
        "model.save(\"Faces_model\")"
      ],
      "metadata": {
        "id": "OCS5zJ6u33-K"
      },
      "execution_count": null,
      "outputs": []
    }
  ]
}